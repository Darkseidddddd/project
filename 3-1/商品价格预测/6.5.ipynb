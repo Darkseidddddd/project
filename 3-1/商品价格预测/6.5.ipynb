{
 "cells": [
  {
   "cell_type": "code",
   "execution_count": 2,
   "metadata": {},
   "outputs": [],
   "source": [
    "import time\n",
    "import numpy as np\n",
    "import pandas as pd\n",
    "\n",
    "%matplotlib inline\n",
    "import matplotlib.pyplot as plt\n",
    "import seaborn as sns\n",
    "from scipy.stats import *\n",
    "import PIL.Image as Image\n",
    "\n",
    "from sklearn.feature_extraction.text import CountVectorizer, TfidfVectorizer\n",
    "from sklearn.linear_model import Ridge\n",
    "from sklearn.model_selection import train_test_split\n",
    "from sklearn.pipeline import FeatureUnion"
   ]
  },
  {
   "cell_type": "code",
   "execution_count": 3,
   "metadata": {},
   "outputs": [],
   "source": [
    "data = pd.read_csv('data/train.csv', sep=\"\\t\")\n",
    "# test_data = pd.read_csv('data/test1.csv', sep=\"\\t\")"
   ]
  },
  {
   "cell_type": "code",
   "execution_count": 4,
   "metadata": {},
   "outputs": [
    {
     "name": "stdout",
     "output_type": "stream",
     "text": [
      "<class 'pandas.core.frame.DataFrame'>\n",
      "RangeIndex: 474710 entries, 0 to 474709\n",
      "Data columns (total 8 columns):\n",
      "train_id             474710 non-null int64\n",
      "name                 474710 non-null object\n",
      "item_condition_id    474710 non-null int64\n",
      "category_name        472655 non-null object\n",
      "brand_name           272297 non-null object\n",
      "price                474710 non-null float64\n",
      "shipping             474710 non-null int64\n",
      "item_description     474708 non-null object\n",
      "dtypes: float64(1), int64(3), object(4)\n",
      "memory usage: 29.0+ MB\n"
     ]
    }
   ],
   "source": [
    "data.info()"
   ]
  },
  {
   "cell_type": "code",
   "execution_count": 5,
   "metadata": {},
   "outputs": [
    {
     "data": {
      "text/plain": [
       "<matplotlib.axes._subplots.AxesSubplot at 0x1b8d091c198>"
      ]
     },
     "execution_count": 5,
     "metadata": {},
     "output_type": "execute_result"
    },
    {
     "data": {
      "image/png": "[encoded data removed]",
      "text/plain": [
       "<Figure size 432x288 with 1 Axes>"
      ]
     },
     "metadata": {
      "needs_background": "light"
     },
     "output_type": "display_data"
    }
   ],
   "source": [
    "# 绘制price柱形图\n",
    "width = [50, 100, 150, 200, 250, 300, 350]\n",
    "sns.distplot(data['price'], color = 'g', rug = True, bins = [w for w in width])"
   ]
  },
  {
   "cell_type": "code",
   "execution_count": 7,
   "metadata": {},
   "outputs": [
    {
     "data": {
      "text/plain": [
       "<matplotlib.axes._subplots.AxesSubplot at 0x1b8d476a4e0>"
      ]
     },
     "execution_count": 7,
     "metadata": {},
     "output_type": "execute_result"
    },
    {
     "data": {
      "image/png": "[encoded data removed]",
      "text/plain": [
       "<Figure size 576x288 with 1 Axes>"
      ]
     },
     "metadata": {
      "needs_background": "light"
     },
     "output_type": "display_data"
    }
   ],
   "source": [
    "# 经过np.log压缩后绘制price柱形图\n",
    "plt.xlabel('log(price+1)', fontsize = 12)\n",
    "plt.title('Log Price Distribution', fontsize = 12)\n",
    "np.log(data['price'] + 1).plot.hist(bins = 50, figsize = (8, 4), edgecolor = 'white', color = 'g')"
   ]
  },
  {
   "cell_type": "code",
   "execution_count": 9,
   "metadata": {},
   "outputs": [],
   "source": [
    "y = data['price']"
   ]
  },
  {
   "cell_type": "code",
   "execution_count": 10,
   "metadata": {},
   "outputs": [],
   "source": [
    "X_train, X_test, y_train, y_test = train_test_split(data,y, test_size = 0.3)"
   ]
  },
  {
   "cell_type": "code",
   "execution_count": 11,
   "metadata": {},
   "outputs": [],
   "source": [
    "y_train = np.log1p(y_train)"
   ]
  },
  {
   "cell_type": "code",
   "execution_count": 12,
   "metadata": {},
   "outputs": [],
   "source": [
    "df = pd.concat([X_train, X_test], axis=0)"
   ]
  },
  {
   "cell_type": "code",
   "execution_count": 13,
   "metadata": {},
   "outputs": [
    {
     "data": {
      "text/html": [
       "<div>\n",
       "<style scoped>\n",
       "    .dataframe tbody tr th:only-of-type {\n",
       "        vertical-align: middle;\n",
       "    }\n",
       "\n",
       "    .dataframe tbody tr th {\n",
       "        vertical-align: top;\n",
       "    }\n",
       "\n",
       "    .dataframe thead th {\n",
       "        text-align: right;\n",
       "    }\n",
       "</style>\n",
       "<table border=\"1\" class=\"dataframe\">\n",
       "  <thead>\n",
       "    <tr style=\"text-align: right;\">\n",
       "      <th></th>\n",
       "      <th>name</th>\n",
       "      <th>item_condition_id</th>\n",
       "      <th>category_name</th>\n",
       "      <th>brand_name</th>\n",
       "      <th>shipping</th>\n",
       "      <th>item_description</th>\n",
       "    </tr>\n",
       "  </thead>\n",
       "  <tbody>\n",
       "    <tr>\n",
       "      <th>243388</th>\n",
       "      <td>Bruce Springsteen Sweatshirt</td>\n",
       "      <td>3</td>\n",
       "      <td>Women/Tops &amp; Blouses/Other</td>\n",
       "      <td>missing</td>\n",
       "      <td>0</td>\n",
       "      <td>Size medium Back In The USA, Bruce Springsteen...</td>\n",
       "    </tr>\n",
       "    <tr>\n",
       "      <th>221704</th>\n",
       "      <td>Hello kitty house shoes size 11-12</td>\n",
       "      <td>3</td>\n",
       "      <td>Kids/Girls 2T-5T/Shoes</td>\n",
       "      <td>missing</td>\n",
       "      <td>0</td>\n",
       "      <td>Shoes are in good condition</td>\n",
       "    </tr>\n",
       "    <tr>\n",
       "      <th>429828</th>\n",
       "      <td>MAC lightbulb Tinted Cream</td>\n",
       "      <td>2</td>\n",
       "      <td>Beauty/Makeup/Face</td>\n",
       "      <td>MAC</td>\n",
       "      <td>1</td>\n",
       "      <td>SPF 30 in color light swatched once to check c...</td>\n",
       "    </tr>\n",
       "    <tr>\n",
       "      <th>263455</th>\n",
       "      <td>Stunning unicorn</td>\n",
       "      <td>2</td>\n",
       "      <td>Vintage &amp; Collectibles/Jewelry/Pendant</td>\n",
       "      <td>missing</td>\n",
       "      <td>0</td>\n",
       "      <td>#1. Fantasy unicorn horse Mystical magical dre...</td>\n",
       "    </tr>\n",
       "    <tr>\n",
       "      <th>136311</th>\n",
       "      <td>Forever 21 Choker</td>\n",
       "      <td>4</td>\n",
       "      <td>Women/Jewelry/Necklaces</td>\n",
       "      <td>FOREVER 21</td>\n",
       "      <td>0</td>\n",
       "      <td>No description yet</td>\n",
       "    </tr>\n",
       "  </tbody>\n",
       "</table>\n",
       "</div>"
      ],
      "text/plain": [
       "                                      name item_condition_id  \\\n",
       "243388        Bruce Springsteen Sweatshirt                 3   \n",
       "221704  Hello kitty house shoes size 11-12                 3   \n",
       "429828          MAC lightbulb Tinted Cream                 2   \n",
       "263455                    Stunning unicorn                 2   \n",
       "136311                   Forever 21 Choker                 4   \n",
       "\n",
       "                                 category_name  brand_name shipping  \\\n",
       "243388              Women/Tops & Blouses/Other     missing        0   \n",
       "221704                  Kids/Girls 2T-5T/Shoes     missing        0   \n",
       "429828                      Beauty/Makeup/Face         MAC        1   \n",
       "263455  Vintage & Collectibles/Jewelry/Pendant     missing        0   \n",
       "136311                 Women/Jewelry/Necklaces  FOREVER 21        0   \n",
       "\n",
       "                                         item_description  \n",
       "243388  Size medium Back In The USA, Bruce Springsteen...  \n",
       "221704                        Shoes are in good condition  \n",
       "429828  SPF 30 in color light swatched once to check c...  \n",
       "263455  #1. Fantasy unicorn horse Mystical magical dre...  \n",
       "136311                                 No description yet  "
      ]
     },
     "execution_count": 13,
     "metadata": {},
     "output_type": "execute_result"
    }
   ],
   "source": [
    "def featureProcessing(df):\n",
    "\n",
    "    # delete the data that will not be used\n",
    "#     df = df.drop(['test_id'], axis=1)\n",
    "    df = df.drop(['price', 'train_id'], axis=1)\n",
    "    # deal with the missing value with a default value\n",
    "    df['category_name'] = df['category_name'].fillna('No/No/No').astype(str)\n",
    "    df['brand_name'] = df['brand_name'].fillna('missing').astype(str)\n",
    "    df['item_description'] = df['item_description'].fillna('No')\n",
    "    # convert the data : int -> str\n",
    "    df['shipping'] = df['shipping'].astype(str)\n",
    "    df['item_condition_id'] = df['item_condition_id'].astype(str)\n",
    "\n",
    "    return df\n",
    "df = featureProcessing(df)\n",
    "df.head()"
   ]
  },
  {
   "cell_type": "code",
   "execution_count": 14,
   "metadata": {},
   "outputs": [
    {
     "name": "stdout",
     "output_type": "stream",
     "text": [
      "                    count  unique  \\\n",
      "name               474710  419453   \n",
      "item_condition_id  474710       5   \n",
      "category_name      474710    1181   \n",
      "brand_name         474710    3502   \n",
      "shipping           474710       2   \n",
      "item_description   474710  420552   \n",
      "\n",
      "                                                              top    freq  \n",
      "name                                                       Bundle     699  \n",
      "item_condition_id                                               1  205397  \n",
      "category_name      Women/Athletic Apparel/Pants, Tights, Leggings   19232  \n",
      "brand_name                                                missing  202413  \n",
      "shipping                                                        0  261676  \n",
      "item_description                               No description yet   26391  \n"
     ]
    }
   ],
   "source": [
    "# 输出列类型\n",
    "print(df.astype('object').describe().transpose())"
   ]
  },
  {
   "cell_type": "code",
   "execution_count": 15,
   "metadata": {},
   "outputs": [
    {
     "name": "stdout",
     "output_type": "stream",
     "text": [
      "0    0.551233\n",
      "1    0.448767\n",
      "Name: shipping, dtype: float64\n"
     ]
    }
   ],
   "source": [
    "# 二元属性shipping的分布比例\n",
    "print(df['shipping'].value_counts() / len(df))"
   ]
  },
  {
   "cell_type": "code",
   "execution_count": 16,
   "metadata": {},
   "outputs": [
    {
     "name": "stdout",
     "output_type": "stream",
     "text": [
      "name                 419453\n",
      "item_condition_id         5\n",
      "category_name          1181\n",
      "brand_name             3502\n",
      "shipping                  2\n",
      "item_description     420552\n",
      "dtype: int64\n"
     ]
    }
   ],
   "source": [
    "# 查看数据集的每个特征的取值个数\n",
    "print(df.apply(lambda x: x.nunique()))"
   ]
  },
  {
   "cell_type": "code",
   "execution_count": null,
   "metadata": {},
   "outputs": [],
   "source": []
  },
  {
   "cell_type": "code",
   "execution_count": null,
   "metadata": {},
   "outputs": [],
   "source": []
  },
  {
   "cell_type": "code",
   "execution_count": 18,
   "metadata": {},
   "outputs": [
    {
     "data": {
      "text/html": [
       "<div>\n",
       "<style scoped>\n",
       "    .dataframe tbody tr th:only-of-type {\n",
       "        vertical-align: middle;\n",
       "    }\n",
       "\n",
       "    .dataframe tbody tr th {\n",
       "        vertical-align: top;\n",
       "    }\n",
       "\n",
       "    .dataframe thead th {\n",
       "        text-align: right;\n",
       "    }\n",
       "</style>\n",
       "<table border=\"1\" class=\"dataframe\">\n",
       "  <thead>\n",
       "    <tr style=\"text-align: right;\">\n",
       "      <th></th>\n",
       "      <th>name</th>\n",
       "      <th>item_condition_id</th>\n",
       "      <th>category_name</th>\n",
       "      <th>brand_name</th>\n",
       "      <th>shipping</th>\n",
       "      <th>item_description</th>\n",
       "      <th>cat1</th>\n",
       "      <th>cat2</th>\n",
       "      <th>cat3</th>\n",
       "    </tr>\n",
       "  </thead>\n",
       "  <tbody>\n",
       "    <tr>\n",
       "      <th>243388</th>\n",
       "      <td>Bruce Springsteen Sweatshirt</td>\n",
       "      <td>3</td>\n",
       "      <td>Women/Tops &amp; Blouses/Other</td>\n",
       "      <td>missing</td>\n",
       "      <td>0</td>\n",
       "      <td>Size medium Back In The USA, Bruce Springsteen...</td>\n",
       "      <td>Women</td>\n",
       "      <td>Tops &amp; Blouses</td>\n",
       "      <td>Other</td>\n",
       "    </tr>\n",
       "    <tr>\n",
       "      <th>221704</th>\n",
       "      <td>Hello kitty house shoes size 11-12</td>\n",
       "      <td>3</td>\n",
       "      <td>Kids/Girls 2T-5T/Shoes</td>\n",
       "      <td>missing</td>\n",
       "      <td>0</td>\n",
       "      <td>Shoes are in good condition</td>\n",
       "      <td>Kids</td>\n",
       "      <td>Girls 2T-5T</td>\n",
       "      <td>Shoes</td>\n",
       "    </tr>\n",
       "    <tr>\n",
       "      <th>429828</th>\n",
       "      <td>MAC lightbulb Tinted Cream</td>\n",
       "      <td>2</td>\n",
       "      <td>Beauty/Makeup/Face</td>\n",
       "      <td>MAC</td>\n",
       "      <td>1</td>\n",
       "      <td>SPF 30 in color light swatched once to check c...</td>\n",
       "      <td>Beauty</td>\n",
       "      <td>Makeup</td>\n",
       "      <td>Face</td>\n",
       "    </tr>\n",
       "    <tr>\n",
       "      <th>263455</th>\n",
       "      <td>Stunning unicorn</td>\n",
       "      <td>2</td>\n",
       "      <td>Vintage &amp; Collectibles/Jewelry/Pendant</td>\n",
       "      <td>missing</td>\n",
       "      <td>0</td>\n",
       "      <td>#1. Fantasy unicorn horse Mystical magical dre...</td>\n",
       "      <td>Vintage &amp; Collectibles</td>\n",
       "      <td>Jewelry</td>\n",
       "      <td>Pendant</td>\n",
       "    </tr>\n",
       "    <tr>\n",
       "      <th>136311</th>\n",
       "      <td>Forever 21 Choker</td>\n",
       "      <td>4</td>\n",
       "      <td>Women/Jewelry/Necklaces</td>\n",
       "      <td>FOREVER 21</td>\n",
       "      <td>0</td>\n",
       "      <td>No description yet</td>\n",
       "      <td>Women</td>\n",
       "      <td>Jewelry</td>\n",
       "      <td>Necklaces</td>\n",
       "    </tr>\n",
       "  </tbody>\n",
       "</table>\n",
       "</div>"
      ],
      "text/plain": [
       "                                      name item_condition_id  \\\n",
       "243388        Bruce Springsteen Sweatshirt                 3   \n",
       "221704  Hello kitty house shoes size 11-12                 3   \n",
       "429828          MAC lightbulb Tinted Cream                 2   \n",
       "263455                    Stunning unicorn                 2   \n",
       "136311                   Forever 21 Choker                 4   \n",
       "\n",
       "                                 category_name  brand_name shipping  \\\n",
       "243388              Women/Tops & Blouses/Other     missing        0   \n",
       "221704                  Kids/Girls 2T-5T/Shoes     missing        0   \n",
       "429828                      Beauty/Makeup/Face         MAC        1   \n",
       "263455  Vintage & Collectibles/Jewelry/Pendant     missing        0   \n",
       "136311                 Women/Jewelry/Necklaces  FOREVER 21        0   \n",
       "\n",
       "                                         item_description  \\\n",
       "243388  Size medium Back In The USA, Bruce Springsteen...   \n",
       "221704                        Shoes are in good condition   \n",
       "429828  SPF 30 in color light swatched once to check c...   \n",
       "263455  #1. Fantasy unicorn horse Mystical magical dre...   \n",
       "136311                                 No description yet   \n",
       "\n",
       "                          cat1            cat2       cat3  \n",
       "243388                   Women  Tops & Blouses      Other  \n",
       "221704                    Kids     Girls 2T-5T      Shoes  \n",
       "429828                  Beauty          Makeup       Face  \n",
       "263455  Vintage & Collectibles         Jewelry    Pendant  \n",
       "136311                   Women         Jewelry  Necklaces  "
      ]
     },
     "execution_count": 18,
     "metadata": {},
     "output_type": "execute_result"
    }
   ],
   "source": [
    "def split_cat(text):\n",
    "    return text.split(\"/\")\n",
    "df['cat1'], df['cat2'], df['cat3'] = \\\n",
    "zip(*df['category_name'].apply(lambda x: split_cat(x)))\n",
    "df.head()"
   ]
  },
  {
   "cell_type": "code",
   "execution_count": 19,
   "metadata": {},
   "outputs": [
    {
     "name": "stdout",
     "output_type": "stream",
     "text": [
      "Women                     0.448071\n",
      "Beauty                    0.140475\n",
      "Kids                      0.115285\n",
      "Electronics               0.082659\n",
      "Men                       0.063060\n",
      "Home                      0.045744\n",
      "Vintage & Collectibles    0.031404\n",
      "Other                     0.030817\n",
      "Handmade                  0.020960\n",
      "Sports & Outdoors         0.017196\n",
      "No                        0.004329\n",
      "Name: cat1, dtype: float64\n"
     ]
    }
   ],
   "source": [
    "# 查看切分后的cat1的取值的概率\n",
    "print(df['cat1'].value_counts() / len(df['cat1']))"
   ]
  },
  {
   "cell_type": "code",
   "execution_count": 20,
   "metadata": {},
   "outputs": [
    {
     "data": {
      "text/plain": [
       "Text(0.5,1,'Count of shipping by cat1')"
      ]
     },
     "execution_count": 20,
     "metadata": {},
     "output_type": "execute_result"
    },
    {
     "data": {
      "image/png": "[encoded data removed]",
      "text/plain": [
       "<Figure size 432x288 with 1 Axes>"
      ]
     },
     "metadata": {
      "needs_background": "light"
     },
     "output_type": "display_data"
    }
   ],
   "source": [
    "# 通过cat1绘制二元特征shipping的柱形分布图\n",
    "ax = sns.countplot(x = \"cat1\", hue = \"shipping\", data = df, palette = \"Set3\")\n",
    "ax.set_xticklabels(ax.get_xticklabels(), rotation = 40, ha = \"right\")\n",
    "ax.set_title('Count of shipping by cat1')"
   ]
  },
  {
   "cell_type": "code",
   "execution_count": 23,
   "metadata": {},
   "outputs": [
    {
     "data": {
      "text/plain": [
       "Text(0.5,0,'Number of Items')"
      ]
     },
     "execution_count": 23,
     "metadata": {},
     "output_type": "execute_result"
    },
    {
     "data": {
      "image/png": "[encoded data removed]",
      "text/plain": [
       "<Figure size 1224x720 with 1 Axes>"
      ]
     },
     "metadata": {
      "needs_background": "light"
     },
     "output_type": "display_data"
    }
   ],
   "source": [
    "# Category切分之后的第一部分的出现次数最多的前10个\n",
    "plt.figure(figsize = (17, 10))\n",
    "sns.countplot(y = df['cat1'], order = df['cat1'].value_counts().index, orient = 'v')\n",
    "plt.title('Top 10 Cat1 Categories', fontsize = 25)\n",
    "plt.ylabel('Cat1 Category', fontsize = 20)\n",
    "plt.xlabel('Number of Items')"
   ]
  },
  {
   "cell_type": "code",
   "execution_count": 24,
   "metadata": {},
   "outputs": [
    {
     "data": {
      "text/plain": [
       "Text(0.5,1,'Top 20 Brand Distribution')"
      ]
     },
     "execution_count": 24,
     "metadata": {},
     "output_type": "execute_result"
    },
    {
     "data": {
      "image/png": "[encoded data removed]",
      "text/plain": [
       "<Figure size 432x288 with 1 Axes>"
      ]
     },
     "metadata": {
      "needs_background": "light"
     },
     "output_type": "display_data"
    }
   ],
   "source": [
    "# Brand按照出现次数排序的前20个\n",
    "b20 = df['brand_name'].value_counts()[1 : 20].reset_index().rename(columns = {'index': 'brand_name', 'brand_name':'count'})\n",
    "ax = sns.barplot(x = \"brand_name\", y = \"count\", data = b20)\n",
    "ax.set_xticklabels(ax.get_xticklabels(),rotation = 90)\n",
    "ax.set_title('Top 20 Brand Distribution', fontsize = 15)"
   ]
  },
  {
   "cell_type": "code",
   "execution_count": 28,
   "metadata": {},
   "outputs": [
    {
     "data": {
      "text/plain": [
       "Text(0.5,1,'Count of each item condition by cat1')"
      ]
     },
     "execution_count": 28,
     "metadata": {},
     "output_type": "execute_result"
    },
    {
     "data": {
      "image/png": "[encoded data removed]",
      "text/plain": [
       "<Figure size 432x288 with 1 Axes>"
      ]
     },
     "metadata": {
      "needs_background": "light"
     },
     "output_type": "display_data"
    }
   ],
   "source": [
    "# 通过cat1统计每个不同量出现次数\n",
    "ax = sns.countplot(x = \"item_condition_id\", hue = \"cat1\", data = df, palette = \"Set3\")\n",
    "ax.set_title('Count of each item condition by cat1')"
   ]
  },
  {
   "cell_type": "code",
   "execution_count": 26,
   "metadata": {},
   "outputs": [
    {
     "data": {
      "text/plain": [
       "Text(0.5,1,'Top 20 Brand')"
      ]
     },
     "execution_count": 26,
     "metadata": {},
     "output_type": "execute_result"
    },
    {
     "data": {
      "image/png": "[encoded data removed]",
      "text/plain": [
       "<Figure size 432x288 with 1 Axes>"
      ]
     },
     "metadata": {
      "needs_background": "light"
     },
     "output_type": "display_data"
    }
   ],
   "source": [
    "# Brand按照价格排序的前20个\n",
    "top_20_exp_brand = pd.DataFrame(data.groupby(['brand_name'],as_index = True).std()['price'].sort_values(ascending = False)[0 : 20]).reset_index()\n",
    "ax = sns.barplot(x = \"brand_name\", y = \"price\", data = top_20_exp_brand)\n",
    "ax.set_xticklabels(ax.get_xticklabels(),rotation = 90)\n",
    "ax.set_title('Top 20 Brand', fontsize = 15)"
   ]
  },
  {
   "cell_type": "code",
   "execution_count": null,
   "metadata": {},
   "outputs": [],
   "source": []
  },
  {
   "cell_type": "code",
   "execution_count": 22,
   "metadata": {},
   "outputs": [
    {
     "data": {
      "text/plain": [
       "<matplotlib.legend.Legend at 0x1b8ed1ad438>"
      ]
     },
     "execution_count": 22,
     "metadata": {},
     "output_type": "execute_result"
    },
    {
     "data": {
      "image/png": "[encoded data removed]",
      "text/plain": [
       "<Figure size 1296x576 with 1 Axes>"
      ]
     },
     "metadata": {
      "needs_background": "light"
     },
     "output_type": "display_data"
    }
   ],
   "source": [
    "# 通过shipping绘制price的柱形分布图，查看shipping和price的相关性\n",
    "shipping_by_buyer = data[data['shipping'] == 0]['price']\n",
    "shipping_by_seller = data[data['shipping'] == 1]['price']\n",
    "fig, ax = plt.subplots(figsize = (18, 8))\n",
    "ax.hist(shipping_by_seller, color = 'g', alpha = 1.0, bins = 50, range = [0, 100],label = 'Price when Seller pays Shipping')\n",
    "ax.hist(shipping_by_buyer, color = 'y', alpha = 0.7, bins = 50, range = [0, 100],label = 'Price when Buyer pays Shipping')\n",
    "plt.xlabel('price', fontsize = 12)\n",
    "plt.ylabel('frequency', fontsize = 12)\n",
    "plt.title('Price Distribution by Shipping Type', fontsize = 15)\n",
    "plt.tick_params(labelsize = 12)\n",
    "plt.legend()"
   ]
  },
  {
   "cell_type": "code",
   "execution_count": 27,
   "metadata": {},
   "outputs": [
    {
     "data": {
      "text/plain": [
       "Text(0.5,1,'Count of each item condition')"
      ]
     },
     "execution_count": 27,
     "metadata": {},
     "output_type": "execute_result"
    },
    {
     "data": {
      "image/png": "[encoded data removed]",
      "text/plain": [
       "<Figure size 432x288 with 1 Axes>"
      ]
     },
     "metadata": {
      "needs_background": "light"
     },
     "output_type": "display_data"
    }
   ],
   "source": [
    "# 统计item_condition不同量出现的次数\n",
    "ax = sns.countplot('item_condition_id', data = df)\n",
    "ax.set_xticklabels(ax.get_xticklabels(), rotation = 40, ha = \"right\")\n",
    "ax.set_title('Count of each item condition')"
   ]
  },
  {
   "cell_type": "code",
   "execution_count": 11,
   "metadata": {},
   "outputs": [],
   "source": [
    "df['brand_name_cat'] = df['brand_name'].str.cat(df['category_name'])"
   ]
  },
  {
   "cell_type": "code",
   "execution_count": 12,
   "metadata": {},
   "outputs": [],
   "source": [
    "df['brand_name_cat1'] = df['brand_name'].str.cat(df['cat1'])"
   ]
  },
  {
   "cell_type": "code",
   "execution_count": 13,
   "metadata": {},
   "outputs": [],
   "source": [
    "df['brand_name_cat2'] = df['brand_name'].str.cat(df['cat2'])\n",
    "df['brand_name_cat3'] = df['brand_name'].str.cat(df['cat3'])"
   ]
  },
  {
   "cell_type": "code",
   "execution_count": 14,
   "metadata": {},
   "outputs": [],
   "source": [
    "df['brand_name_id'] = df['brand_name'].str.cat(df['item_condition_id'])"
   ]
  },
  {
   "cell_type": "code",
   "execution_count": 15,
   "metadata": {},
   "outputs": [],
   "source": [
    "df['bn_id_shipping'] = df['brand_name'].str.cat(df['item_condition_id'].str.cat(df['shipping']))"
   ]
  },
  {
   "cell_type": "code",
   "execution_count": 16,
   "metadata": {},
   "outputs": [],
   "source": [
    "df['bn_cat1_id_shipping'] = df['bn_id_shipping'].str.cat(df['cat1'])\n",
    "df['bn_cat2_id_shipping'] = df['bn_id_shipping'].str.cat(df['cat2'])\n",
    "df['bn_cat3_id_shipping'] = df['bn_id_shipping'].str.cat(df['cat3'])"
   ]
  },
  {
   "cell_type": "code",
   "execution_count": 17,
   "metadata": {},
   "outputs": [],
   "source": [
    "df['cat12'] = df['cat1'].str.cat(df['cat2'])\n",
    "df['cat23'] = df['cat2'].str.cat(df['cat3'])\n",
    "df['cat13'] = df['cat1'].str.cat(df['cat3'])"
   ]
  },
  {
   "cell_type": "code",
   "execution_count": 18,
   "metadata": {},
   "outputs": [],
   "source": [
    "df['bn_cat23_id_shipping'] = df['brand_name']+df['cat23']+df['item_condition_id']+df['shipping']\n",
    "df['bn_cat12_id_shipping'] = df['brand_name']+df['cat12']+df['item_condition_id']+df['shipping']\n",
    "df['bn_cat13_id_shipping'] = df['brand_name']+df['cat13']+df['item_condition_id']+df['shipping']"
   ]
  },
  {
   "cell_type": "code",
   "execution_count": 19,
   "metadata": {},
   "outputs": [],
   "source": [
    "df['text'] = df['item_description'].fillna('') + ' ' + df['name'].fillna('') + ' ' + df['brand_name'].fillna('')"
   ]
  },
  {
   "cell_type": "code",
   "execution_count": 20,
   "metadata": {},
   "outputs": [],
   "source": [
    "df['brand_name_name'] = df['brand_name'].fillna('') + ' ' + df['name'].fillna('')"
   ]
  },
  {
   "cell_type": "code",
   "execution_count": 21,
   "metadata": {},
   "outputs": [],
   "source": [
    "df['name_cat1'] = df['name'].fillna('') + ' ' + df['cat1']\n",
    "df['name_cat2'] = df['name'].fillna('') + ' ' + df['cat2']\n",
    "df['name_cat3'] = df['name'].fillna('') + ' ' + df['cat3']\n",
    "df['name_cat'] = df['name'].fillna('') + ' ' + df['category_name']"
   ]
  },
  {
   "cell_type": "code",
   "execution_count": 22,
   "metadata": {},
   "outputs": [],
   "source": [
    "df['name_cat23'] = df['name'].fillna('') + ' ' + df['cat2'] + ' ' + df['cat3']"
   ]
  },
  {
   "cell_type": "code",
   "execution_count": 23,
   "metadata": {},
   "outputs": [],
   "source": [
    "df['brand_name_desc'] = df['brand_name'] + ' ' + df['item_description'] "
   ]
  },
  {
   "cell_type": "code",
   "execution_count": 24,
   "metadata": {},
   "outputs": [],
   "source": [
    "df['id_shipping'] = df['item_condition_id']+df['shipping']"
   ]
  },
  {
   "cell_type": "code",
   "execution_count": 25,
   "metadata": {},
   "outputs": [],
   "source": [
    "df['cat1_desc'] = df['cat1'] + ' ' + df['item_description']\n",
    "df['cat2_desc'] = df['cat2'] + ' ' + df['item_description']\n",
    "df['cat3_desc'] = df['cat3'] + ' ' + df['item_description']"
   ]
  },
  {
   "cell_type": "code",
   "execution_count": 26,
   "metadata": {},
   "outputs": [],
   "source": [
    "df['cat1_id_shipping'] = df['cat1'] + df['item_condition_id'] + df['shipping']\n",
    "df['cat2_id_shipping'] = df['cat2'] + df['item_condition_id'] + df['shipping']\n",
    "df['cat3_id_shipping'] = df['cat3'] + df['item_condition_id'] + df['shipping']"
   ]
  },
  {
   "cell_type": "code",
   "execution_count": 27,
   "metadata": {},
   "outputs": [
    {
     "data": {
      "text/html": [
       "<div>\n",
       "<style scoped>\n",
       "    .dataframe tbody tr th:only-of-type {\n",
       "        vertical-align: middle;\n",
       "    }\n",
       "\n",
       "    .dataframe tbody tr th {\n",
       "        vertical-align: top;\n",
       "    }\n",
       "\n",
       "    .dataframe thead th {\n",
       "        text-align: right;\n",
       "    }\n",
       "</style>\n",
       "<table border=\"1\" class=\"dataframe\">\n",
       "  <thead>\n",
       "    <tr style=\"text-align: right;\">\n",
       "      <th></th>\n",
       "      <th>name</th>\n",
       "      <th>item_condition_id</th>\n",
       "      <th>category_name</th>\n",
       "      <th>brand_name</th>\n",
       "      <th>shipping</th>\n",
       "      <th>item_description</th>\n",
       "      <th>cat1</th>\n",
       "      <th>cat2</th>\n",
       "      <th>cat3</th>\n",
       "      <th>brand_name_cat</th>\n",
       "      <th>...</th>\n",
       "      <th>name_cat</th>\n",
       "      <th>name_cat23</th>\n",
       "      <th>brand_name_desc</th>\n",
       "      <th>id_shipping</th>\n",
       "      <th>cat1_desc</th>\n",
       "      <th>cat2_desc</th>\n",
       "      <th>cat3_desc</th>\n",
       "      <th>cat1_id_shipping</th>\n",
       "      <th>cat2_id_shipping</th>\n",
       "      <th>cat3_id_shipping</th>\n",
       "    </tr>\n",
       "  </thead>\n",
       "  <tbody>\n",
       "    <tr>\n",
       "      <th>156871</th>\n",
       "      <td>Cream Floral Tank Top</td>\n",
       "      <td>3</td>\n",
       "      <td>Women/Tops &amp; Blouses/Tank, Cami</td>\n",
       "      <td>missing</td>\n",
       "      <td>0</td>\n",
       "      <td>No description yet</td>\n",
       "      <td>Women</td>\n",
       "      <td>Tops &amp; Blouses</td>\n",
       "      <td>Tank, Cami</td>\n",
       "      <td>missingWomen/Tops &amp; Blouses/Tank, Cami</td>\n",
       "      <td>...</td>\n",
       "      <td>Cream Floral Tank Top Women/Tops &amp; Blouses/Tan...</td>\n",
       "      <td>Cream Floral Tank Top Tops &amp; Blouses Tank, Cami</td>\n",
       "      <td>missing No description yet</td>\n",
       "      <td>30</td>\n",
       "      <td>Women No description yet</td>\n",
       "      <td>Tops &amp; Blouses No description yet</td>\n",
       "      <td>Tank, Cami No description yet</td>\n",
       "      <td>Women30</td>\n",
       "      <td>Tops &amp; Blouses30</td>\n",
       "      <td>Tank, Cami30</td>\n",
       "    </tr>\n",
       "    <tr>\n",
       "      <th>239558</th>\n",
       "      <td>5.25\" Lizard Glass Pipe</td>\n",
       "      <td>1</td>\n",
       "      <td>Vintage &amp; Collectibles/Collectibles/Glass</td>\n",
       "      <td>missing</td>\n",
       "      <td>1</td>\n",
       "      <td>NEW NEVER USED!!!</td>\n",
       "      <td>Vintage &amp; Collectibles</td>\n",
       "      <td>Collectibles</td>\n",
       "      <td>Glass</td>\n",
       "      <td>missingVintage &amp; Collectibles/Collectibles/Glass</td>\n",
       "      <td>...</td>\n",
       "      <td>5.25\" Lizard Glass Pipe Vintage &amp; Collectibles...</td>\n",
       "      <td>5.25\" Lizard Glass Pipe Collectibles Glass</td>\n",
       "      <td>missing NEW NEVER USED!!!</td>\n",
       "      <td>11</td>\n",
       "      <td>Vintage &amp; Collectibles NEW NEVER USED!!!</td>\n",
       "      <td>Collectibles NEW NEVER USED!!!</td>\n",
       "      <td>Glass NEW NEVER USED!!!</td>\n",
       "      <td>Vintage &amp; Collectibles11</td>\n",
       "      <td>Collectibles11</td>\n",
       "      <td>Glass11</td>\n",
       "    </tr>\n",
       "    <tr>\n",
       "      <th>426564</th>\n",
       "      <td>FREE SHIP The Egypt Game</td>\n",
       "      <td>3</td>\n",
       "      <td>Other/Books/Children's Books</td>\n",
       "      <td>missing</td>\n",
       "      <td>1</td>\n",
       "      <td>Title: The Egypt Game Author: Zilpha Keattey S...</td>\n",
       "      <td>Other</td>\n",
       "      <td>Books</td>\n",
       "      <td>Children's Books</td>\n",
       "      <td>missingOther/Books/Children's Books</td>\n",
       "      <td>...</td>\n",
       "      <td>FREE SHIP The Egypt Game Other/Books/Children'...</td>\n",
       "      <td>FREE SHIP The Egypt Game Books Children's Books</td>\n",
       "      <td>missing Title: The Egypt Game Author: Zilpha K...</td>\n",
       "      <td>31</td>\n",
       "      <td>Other Title: The Egypt Game Author: Zilpha Kea...</td>\n",
       "      <td>Books Title: The Egypt Game Author: Zilpha Kea...</td>\n",
       "      <td>Children's Books Title: The Egypt Game Author:...</td>\n",
       "      <td>Other31</td>\n",
       "      <td>Books31</td>\n",
       "      <td>Children's Books31</td>\n",
       "    </tr>\n",
       "    <tr>\n",
       "      <th>206767</th>\n",
       "      <td>Denim Tutu Dress 4T</td>\n",
       "      <td>1</td>\n",
       "      <td>Kids/Girls 2T-5T/Dresses</td>\n",
       "      <td>missing</td>\n",
       "      <td>1</td>\n",
       "      <td>Beautiful denim tutu dress. Featuring a denim ...</td>\n",
       "      <td>Kids</td>\n",
       "      <td>Girls 2T-5T</td>\n",
       "      <td>Dresses</td>\n",
       "      <td>missingKids/Girls 2T-5T/Dresses</td>\n",
       "      <td>...</td>\n",
       "      <td>Denim Tutu Dress 4T Kids/Girls 2T-5T/Dresses</td>\n",
       "      <td>Denim Tutu Dress 4T Girls 2T-5T Dresses</td>\n",
       "      <td>missing Beautiful denim tutu dress. Featuring ...</td>\n",
       "      <td>11</td>\n",
       "      <td>Kids Beautiful denim tutu dress. Featuring a d...</td>\n",
       "      <td>Girls 2T-5T Beautiful denim tutu dress. Featur...</td>\n",
       "      <td>Dresses Beautiful denim tutu dress. Featuring ...</td>\n",
       "      <td>Kids11</td>\n",
       "      <td>Girls 2T-5T11</td>\n",
       "      <td>Dresses11</td>\n",
       "    </tr>\n",
       "    <tr>\n",
       "      <th>231766</th>\n",
       "      <td>2 piercing kit disposables</td>\n",
       "      <td>1</td>\n",
       "      <td>Women/Other/Other</td>\n",
       "      <td>missing</td>\n",
       "      <td>1</td>\n",
       "      <td>2 brand new disposable ear nose piercing unit ...</td>\n",
       "      <td>Women</td>\n",
       "      <td>Other</td>\n",
       "      <td>Other</td>\n",
       "      <td>missingWomen/Other/Other</td>\n",
       "      <td>...</td>\n",
       "      <td>2 piercing kit disposables Women/Other/Other</td>\n",
       "      <td>2 piercing kit disposables Other Other</td>\n",
       "      <td>missing 2 brand new disposable ear nose pierci...</td>\n",
       "      <td>11</td>\n",
       "      <td>Women 2 brand new disposable ear nose piercing...</td>\n",
       "      <td>Other 2 brand new disposable ear nose piercing...</td>\n",
       "      <td>Other 2 brand new disposable ear nose piercing...</td>\n",
       "      <td>Women11</td>\n",
       "      <td>Other11</td>\n",
       "      <td>Other11</td>\n",
       "    </tr>\n",
       "  </tbody>\n",
       "</table>\n",
       "<p>5 rows × 39 columns</p>\n",
       "</div>"
      ],
      "text/plain": [
       "                              name item_condition_id  \\\n",
       "156871       Cream Floral Tank Top                 3   \n",
       "239558     5.25\" Lizard Glass Pipe                 1   \n",
       "426564    FREE SHIP The Egypt Game                 3   \n",
       "206767         Denim Tutu Dress 4T                 1   \n",
       "231766  2 piercing kit disposables                 1   \n",
       "\n",
       "                                    category_name brand_name shipping  \\\n",
       "156871            Women/Tops & Blouses/Tank, Cami    missing        0   \n",
       "239558  Vintage & Collectibles/Collectibles/Glass    missing        1   \n",
       "426564               Other/Books/Children's Books    missing        1   \n",
       "206767                   Kids/Girls 2T-5T/Dresses    missing        1   \n",
       "231766                          Women/Other/Other    missing        1   \n",
       "\n",
       "                                         item_description  \\\n",
       "156871                                 No description yet   \n",
       "239558                                  NEW NEVER USED!!!   \n",
       "426564  Title: The Egypt Game Author: Zilpha Keattey S...   \n",
       "206767  Beautiful denim tutu dress. Featuring a denim ...   \n",
       "231766  2 brand new disposable ear nose piercing unit ...   \n",
       "\n",
       "                          cat1            cat2              cat3  \\\n",
       "156871                   Women  Tops & Blouses        Tank, Cami   \n",
       "239558  Vintage & Collectibles    Collectibles             Glass   \n",
       "426564                   Other           Books  Children's Books   \n",
       "206767                    Kids     Girls 2T-5T           Dresses   \n",
       "231766                   Women           Other             Other   \n",
       "\n",
       "                                          brand_name_cat         ...          \\\n",
       "156871            missingWomen/Tops & Blouses/Tank, Cami         ...           \n",
       "239558  missingVintage & Collectibles/Collectibles/Glass         ...           \n",
       "426564               missingOther/Books/Children's Books         ...           \n",
       "206767                   missingKids/Girls 2T-5T/Dresses         ...           \n",
       "231766                          missingWomen/Other/Other         ...           \n",
       "\n",
       "                                                 name_cat  \\\n",
       "156871  Cream Floral Tank Top Women/Tops & Blouses/Tan...   \n",
       "239558  5.25\" Lizard Glass Pipe Vintage & Collectibles...   \n",
       "426564  FREE SHIP The Egypt Game Other/Books/Children'...   \n",
       "206767       Denim Tutu Dress 4T Kids/Girls 2T-5T/Dresses   \n",
       "231766       2 piercing kit disposables Women/Other/Other   \n",
       "\n",
       "                                             name_cat23  \\\n",
       "156871  Cream Floral Tank Top Tops & Blouses Tank, Cami   \n",
       "239558       5.25\" Lizard Glass Pipe Collectibles Glass   \n",
       "426564  FREE SHIP The Egypt Game Books Children's Books   \n",
       "206767          Denim Tutu Dress 4T Girls 2T-5T Dresses   \n",
       "231766           2 piercing kit disposables Other Other   \n",
       "\n",
       "                                          brand_name_desc id_shipping  \\\n",
       "156871                         missing No description yet          30   \n",
       "239558                          missing NEW NEVER USED!!!          11   \n",
       "426564  missing Title: The Egypt Game Author: Zilpha K...          31   \n",
       "206767  missing Beautiful denim tutu dress. Featuring ...          11   \n",
       "231766  missing 2 brand new disposable ear nose pierci...          11   \n",
       "\n",
       "                                                cat1_desc  \\\n",
       "156871                           Women No description yet   \n",
       "239558           Vintage & Collectibles NEW NEVER USED!!!   \n",
       "426564  Other Title: The Egypt Game Author: Zilpha Kea...   \n",
       "206767  Kids Beautiful denim tutu dress. Featuring a d...   \n",
       "231766  Women 2 brand new disposable ear nose piercing...   \n",
       "\n",
       "                                                cat2_desc  \\\n",
       "156871                  Tops & Blouses No description yet   \n",
       "239558                     Collectibles NEW NEVER USED!!!   \n",
       "426564  Books Title: The Egypt Game Author: Zilpha Kea...   \n",
       "206767  Girls 2T-5T Beautiful denim tutu dress. Featur...   \n",
       "231766  Other 2 brand new disposable ear nose piercing...   \n",
       "\n",
       "                                                cat3_desc  \\\n",
       "156871                      Tank, Cami No description yet   \n",
       "239558                            Glass NEW NEVER USED!!!   \n",
       "426564  Children's Books Title: The Egypt Game Author:...   \n",
       "206767  Dresses Beautiful denim tutu dress. Featuring ...   \n",
       "231766  Other 2 brand new disposable ear nose piercing...   \n",
       "\n",
       "                cat1_id_shipping  cat2_id_shipping    cat3_id_shipping  \n",
       "156871                   Women30  Tops & Blouses30        Tank, Cami30  \n",
       "239558  Vintage & Collectibles11    Collectibles11             Glass11  \n",
       "426564                   Other31           Books31  Children's Books31  \n",
       "206767                    Kids11     Girls 2T-5T11           Dresses11  \n",
       "231766                   Women11           Other11             Other11  \n",
       "\n",
       "[5 rows x 39 columns]"
      ]
     },
     "execution_count": 27,
     "metadata": {},
     "output_type": "execute_result"
    }
   ],
   "source": [
    "df.head()"
   ]
  },
  {
   "cell_type": "code",
   "execution_count": 28,
   "metadata": {},
   "outputs": [
    {
     "data": {
      "text/html": [
       "<div>\n",
       "<style scoped>\n",
       "    .dataframe tbody tr th:only-of-type {\n",
       "        vertical-align: middle;\n",
       "    }\n",
       "\n",
       "    .dataframe tbody tr th {\n",
       "        vertical-align: top;\n",
       "    }\n",
       "\n",
       "    .dataframe thead th {\n",
       "        text-align: right;\n",
       "    }\n",
       "</style>\n",
       "<table border=\"1\" class=\"dataframe\">\n",
       "  <thead>\n",
       "    <tr style=\"text-align: right;\">\n",
       "      <th></th>\n",
       "      <th>item_condition_id</th>\n",
       "      <th>category_name</th>\n",
       "      <th>brand_name</th>\n",
       "      <th>shipping</th>\n",
       "      <th>bn_cat23_id_shipping</th>\n",
       "      <th>text</th>\n",
       "      <th>brand_name_name</th>\n",
       "      <th>name_cat2</th>\n",
       "    </tr>\n",
       "  </thead>\n",
       "  <tbody>\n",
       "    <tr>\n",
       "      <th>156871</th>\n",
       "      <td>3</td>\n",
       "      <td>Women/Tops &amp; Blouses/Tank, Cami</td>\n",
       "      <td>missing</td>\n",
       "      <td>0</td>\n",
       "      <td>missingTops &amp; BlousesTank, Cami30</td>\n",
       "      <td>No description yet Cream Floral Tank Top missing</td>\n",
       "      <td>missing Cream Floral Tank Top</td>\n",
       "      <td>Cream Floral Tank Top Tops &amp; Blouses</td>\n",
       "    </tr>\n",
       "    <tr>\n",
       "      <th>239558</th>\n",
       "      <td>1</td>\n",
       "      <td>Vintage &amp; Collectibles/Collectibles/Glass</td>\n",
       "      <td>missing</td>\n",
       "      <td>1</td>\n",
       "      <td>missingCollectiblesGlass11</td>\n",
       "      <td>NEW NEVER USED!!! 5.25\" Lizard Glass Pipe missing</td>\n",
       "      <td>missing 5.25\" Lizard Glass Pipe</td>\n",
       "      <td>5.25\" Lizard Glass Pipe Collectibles</td>\n",
       "    </tr>\n",
       "    <tr>\n",
       "      <th>426564</th>\n",
       "      <td>3</td>\n",
       "      <td>Other/Books/Children's Books</td>\n",
       "      <td>missing</td>\n",
       "      <td>1</td>\n",
       "      <td>missingBooksChildren's Books31</td>\n",
       "      <td>Title: The Egypt Game Author: Zilpha Keattey S...</td>\n",
       "      <td>missing FREE SHIP The Egypt Game</td>\n",
       "      <td>FREE SHIP The Egypt Game Books</td>\n",
       "    </tr>\n",
       "    <tr>\n",
       "      <th>206767</th>\n",
       "      <td>1</td>\n",
       "      <td>Kids/Girls 2T-5T/Dresses</td>\n",
       "      <td>missing</td>\n",
       "      <td>1</td>\n",
       "      <td>missingGirls 2T-5TDresses11</td>\n",
       "      <td>Beautiful denim tutu dress. Featuring a denim ...</td>\n",
       "      <td>missing Denim Tutu Dress 4T</td>\n",
       "      <td>Denim Tutu Dress 4T Girls 2T-5T</td>\n",
       "    </tr>\n",
       "    <tr>\n",
       "      <th>231766</th>\n",
       "      <td>1</td>\n",
       "      <td>Women/Other/Other</td>\n",
       "      <td>missing</td>\n",
       "      <td>1</td>\n",
       "      <td>missingOtherOther11</td>\n",
       "      <td>2 brand new disposable ear nose piercing unit ...</td>\n",
       "      <td>missing 2 piercing kit disposables</td>\n",
       "      <td>2 piercing kit disposables Other</td>\n",
       "    </tr>\n",
       "  </tbody>\n",
       "</table>\n",
       "</div>"
      ],
      "text/plain": [
       "       item_condition_id                              category_name  \\\n",
       "156871                 3            Women/Tops & Blouses/Tank, Cami   \n",
       "239558                 1  Vintage & Collectibles/Collectibles/Glass   \n",
       "426564                 3               Other/Books/Children's Books   \n",
       "206767                 1                   Kids/Girls 2T-5T/Dresses   \n",
       "231766                 1                          Women/Other/Other   \n",
       "\n",
       "       brand_name shipping               bn_cat23_id_shipping  \\\n",
       "156871    missing        0  missingTops & BlousesTank, Cami30   \n",
       "239558    missing        1         missingCollectiblesGlass11   \n",
       "426564    missing        1     missingBooksChildren's Books31   \n",
       "206767    missing        1        missingGirls 2T-5TDresses11   \n",
       "231766    missing        1                missingOtherOther11   \n",
       "\n",
       "                                                     text  \\\n",
       "156871   No description yet Cream Floral Tank Top missing   \n",
       "239558  NEW NEVER USED!!! 5.25\" Lizard Glass Pipe missing   \n",
       "426564  Title: The Egypt Game Author: Zilpha Keattey S...   \n",
       "206767  Beautiful denim tutu dress. Featuring a denim ...   \n",
       "231766  2 brand new disposable ear nose piercing unit ...   \n",
       "\n",
       "                           brand_name_name  \\\n",
       "156871       missing Cream Floral Tank Top   \n",
       "239558     missing 5.25\" Lizard Glass Pipe   \n",
       "426564    missing FREE SHIP The Egypt Game   \n",
       "206767         missing Denim Tutu Dress 4T   \n",
       "231766  missing 2 piercing kit disposables   \n",
       "\n",
       "                                   name_cat2  \n",
       "156871  Cream Floral Tank Top Tops & Blouses  \n",
       "239558  5.25\" Lizard Glass Pipe Collectibles  \n",
       "426564        FREE SHIP The Egypt Game Books  \n",
       "206767       Denim Tutu Dress 4T Girls 2T-5T  \n",
       "231766      2 piercing kit disposables Other  "
      ]
     },
     "execution_count": 28,
     "metadata": {},
     "output_type": "execute_result"
    }
   ],
   "source": [
    "drops = ['cat1_id_shipping','cat2_id_shipping','cat3_id_shipping','brand_name_cat','name_cat3','name_cat23','brand_name_desc','id_shipping','cat1_desc','cat2_desc','cat3_desc','bn_cat12_id_shipping','bn_cat13_id_shipping','cat12','cat13','bn_cat3_id_shipping','bn_cat2_id_shipping','bn_cat1_id_shipping','bn_id_shipping','brand_name_id','name', 'item_description', 'cat1','cat2','cat3','cat23','name_cat1','name_cat', 'brand_name_cat1','brand_name_cat2','brand_name_cat3']\n",
    "df_ = df.drop(drops, axis=1)\n",
    "df_.head()"
   ]
  },
  {
   "cell_type": "code",
   "execution_count": 29,
   "metadata": {},
   "outputs": [],
   "source": [
    "default_preprocessor = CountVectorizer().build_preprocessor()"
   ]
  },
  {
   "cell_type": "code",
   "execution_count": 30,
   "metadata": {},
   "outputs": [],
   "source": [
    "def build_preprocessor_1(field):\n",
    "    field_idx = list(df_.columns).index(field)\n",
    "    return lambda x: default_preprocessor(x[field_idx])"
   ]
  },
  {
   "cell_type": "code",
   "execution_count": 31,
   "metadata": {},
   "outputs": [],
   "source": [
    "vectorizer = FeatureUnion([\n",
    "    ('category_name', CountVectorizer(token_pattern='.+', preprocessor=build_preprocessor_1('category_name'))),\n",
    "    ('brand_name', CountVectorizer(token_pattern='.+',  preprocessor=build_preprocessor_1('brand_name'))),\n",
    "    ('bn_cat23_id_shipping', CountVectorizer(token_pattern='.+', preprocessor=build_preprocessor_1('bn_cat23_id_shipping'))),\n",
    "    ('item_condition_id', CountVectorizer(token_pattern='\\d+', preprocessor=build_preprocessor_1('item_condition_id'))),\n",
    "    ('text', TfidfVectorizer(ngram_range=(1, 2),max_features=200000, preprocessor=build_preprocessor_1('text'))),\n",
    "    ('brand_name_name', TfidfVectorizer(ngram_range=(1, 2), max_features=200000, preprocessor=build_preprocessor_1('brand_name_name'))),\n",
    "    ('name_cat2', TfidfVectorizer(ngram_range=(1, 2), max_features=200000, preprocessor=build_preprocessor_1('name_cat2'))),\n",
    "])"
   ]
  },
  {
   "cell_type": "code",
   "execution_count": 32,
   "metadata": {},
   "outputs": [
    {
     "data": {
      "text/html": [
       "<div>\n",
       "<style scoped>\n",
       "    .dataframe tbody tr th:only-of-type {\n",
       "        vertical-align: middle;\n",
       "    }\n",
       "\n",
       "    .dataframe tbody tr th {\n",
       "        vertical-align: top;\n",
       "    }\n",
       "\n",
       "    .dataframe thead th {\n",
       "        text-align: right;\n",
       "    }\n",
       "</style>\n",
       "<table border=\"1\" class=\"dataframe\">\n",
       "  <thead>\n",
       "    <tr style=\"text-align: right;\">\n",
       "      <th></th>\n",
       "      <th>item_condition_id</th>\n",
       "      <th>category_name</th>\n",
       "      <th>brand_name</th>\n",
       "      <th>shipping</th>\n",
       "      <th>bn_cat23_id_shipping</th>\n",
       "      <th>text</th>\n",
       "      <th>brand_name_name</th>\n",
       "      <th>name_cat2</th>\n",
       "    </tr>\n",
       "  </thead>\n",
       "  <tbody>\n",
       "    <tr>\n",
       "      <th>156871</th>\n",
       "      <td>3</td>\n",
       "      <td>Women/Tops &amp; Blouses/Tank, Cami</td>\n",
       "      <td>missing</td>\n",
       "      <td>0</td>\n",
       "      <td>missingTops &amp; BlousesTank, Cami30</td>\n",
       "      <td>No description yet Cream Floral Tank Top missing</td>\n",
       "      <td>missing Cream Floral Tank Top</td>\n",
       "      <td>Cream Floral Tank Top Tops &amp; Blouses</td>\n",
       "    </tr>\n",
       "    <tr>\n",
       "      <th>239558</th>\n",
       "      <td>1</td>\n",
       "      <td>Vintage &amp; Collectibles/Collectibles/Glass</td>\n",
       "      <td>missing</td>\n",
       "      <td>1</td>\n",
       "      <td>missingCollectiblesGlass11</td>\n",
       "      <td>NEW NEVER USED!!! 5.25\" Lizard Glass Pipe missing</td>\n",
       "      <td>missing 5.25\" Lizard Glass Pipe</td>\n",
       "      <td>5.25\" Lizard Glass Pipe Collectibles</td>\n",
       "    </tr>\n",
       "    <tr>\n",
       "      <th>426564</th>\n",
       "      <td>3</td>\n",
       "      <td>Other/Books/Children's Books</td>\n",
       "      <td>missing</td>\n",
       "      <td>1</td>\n",
       "      <td>missingBooksChildren's Books31</td>\n",
       "      <td>Title: The Egypt Game Author: Zilpha Keattey S...</td>\n",
       "      <td>missing FREE SHIP The Egypt Game</td>\n",
       "      <td>FREE SHIP The Egypt Game Books</td>\n",
       "    </tr>\n",
       "    <tr>\n",
       "      <th>206767</th>\n",
       "      <td>1</td>\n",
       "      <td>Kids/Girls 2T-5T/Dresses</td>\n",
       "      <td>missing</td>\n",
       "      <td>1</td>\n",
       "      <td>missingGirls 2T-5TDresses11</td>\n",
       "      <td>Beautiful denim tutu dress. Featuring a denim ...</td>\n",
       "      <td>missing Denim Tutu Dress 4T</td>\n",
       "      <td>Denim Tutu Dress 4T Girls 2T-5T</td>\n",
       "    </tr>\n",
       "    <tr>\n",
       "      <th>231766</th>\n",
       "      <td>1</td>\n",
       "      <td>Women/Other/Other</td>\n",
       "      <td>missing</td>\n",
       "      <td>1</td>\n",
       "      <td>missingOtherOther11</td>\n",
       "      <td>2 brand new disposable ear nose piercing unit ...</td>\n",
       "      <td>missing 2 piercing kit disposables</td>\n",
       "      <td>2 piercing kit disposables Other</td>\n",
       "    </tr>\n",
       "  </tbody>\n",
       "</table>\n",
       "</div>"
      ],
      "text/plain": [
       "       item_condition_id                              category_name  \\\n",
       "156871                 3            Women/Tops & Blouses/Tank, Cami   \n",
       "239558                 1  Vintage & Collectibles/Collectibles/Glass   \n",
       "426564                 3               Other/Books/Children's Books   \n",
       "206767                 1                   Kids/Girls 2T-5T/Dresses   \n",
       "231766                 1                          Women/Other/Other   \n",
       "\n",
       "       brand_name shipping               bn_cat23_id_shipping  \\\n",
       "156871    missing        0  missingTops & BlousesTank, Cami30   \n",
       "239558    missing        1         missingCollectiblesGlass11   \n",
       "426564    missing        1     missingBooksChildren's Books31   \n",
       "206767    missing        1        missingGirls 2T-5TDresses11   \n",
       "231766    missing        1                missingOtherOther11   \n",
       "\n",
       "                                                     text  \\\n",
       "156871   No description yet Cream Floral Tank Top missing   \n",
       "239558  NEW NEVER USED!!! 5.25\" Lizard Glass Pipe missing   \n",
       "426564  Title: The Egypt Game Author: Zilpha Keattey S...   \n",
       "206767  Beautiful denim tutu dress. Featuring a denim ...   \n",
       "231766  2 brand new disposable ear nose piercing unit ...   \n",
       "\n",
       "                           brand_name_name  \\\n",
       "156871       missing Cream Floral Tank Top   \n",
       "239558     missing 5.25\" Lizard Glass Pipe   \n",
       "426564    missing FREE SHIP The Egypt Game   \n",
       "206767         missing Denim Tutu Dress 4T   \n",
       "231766  missing 2 piercing kit disposables   \n",
       "\n",
       "                                   name_cat2  \n",
       "156871  Cream Floral Tank Top Tops & Blouses  \n",
       "239558  5.25\" Lizard Glass Pipe Collectibles  \n",
       "426564        FREE SHIP The Egypt Game Books  \n",
       "206767       Denim Tutu Dress 4T Girls 2T-5T  \n",
       "231766      2 piercing kit disposables Other  "
      ]
     },
     "execution_count": 32,
     "metadata": {},
     "output_type": "execute_result"
    }
   ],
   "source": [
    "df_.head()"
   ]
  },
  {
   "cell_type": "code",
   "execution_count": 33,
   "metadata": {},
   "outputs": [
    {
     "ename": "MemoryError",
     "evalue": "",
     "output_type": "error",
     "traceback": [
      "\u001b[1;31m---------------------------------------------------------------------------\u001b[0m",
      "\u001b[1;31mMemoryError\u001b[0m                               Traceback (most recent call last)",
      "\u001b[1;32m<ipython-input-33-595e676639a2>\u001b[0m in \u001b[0;36m<module>\u001b[1;34m()\u001b[0m\n\u001b[1;32m----> 1\u001b[1;33m \u001b[0mX_\u001b[0m \u001b[1;33m=\u001b[0m \u001b[0mvectorizer\u001b[0m\u001b[1;33m.\u001b[0m\u001b[0mfit_transform\u001b[0m\u001b[1;33m(\u001b[0m\u001b[0mdf_\u001b[0m\u001b[1;33m.\u001b[0m\u001b[0mvalues\u001b[0m\u001b[1;33m)\u001b[0m\u001b[1;33m\u001b[0m\u001b[0m\n\u001b[0m\u001b[0;32m      2\u001b[0m \u001b[1;31m# from sklearn.decomposition import TruncatedSVD\u001b[0m\u001b[1;33m\u001b[0m\u001b[1;33m\u001b[0m\u001b[0m\n\u001b[0;32m      3\u001b[0m \u001b[1;31m# svd = TruncatedSVD(n_components=700,algorithm=\"randomized\")\u001b[0m\u001b[1;33m\u001b[0m\u001b[1;33m\u001b[0m\u001b[0m\n\u001b[0;32m      4\u001b[0m \u001b[1;31m# X = svd.fit_transform(X)\u001b[0m\u001b[1;33m\u001b[0m\u001b[1;33m\u001b[0m\u001b[0m\n",
      "\u001b[1;32mc:\\users\\light\\appdata\\local\\programs\\python\\python36\\lib\\site-packages\\sklearn\\pipeline.py\u001b[0m in \u001b[0;36mfit_transform\u001b[1;34m(self, X, y, **fit_params)\u001b[0m\n\u001b[0;32m    737\u001b[0m             delayed(_fit_transform_one)(trans, weight, X, y,\n\u001b[0;32m    738\u001b[0m                                         **fit_params)\n\u001b[1;32m--> 739\u001b[1;33m             for name, trans, weight in self._iter())\n\u001b[0m\u001b[0;32m    740\u001b[0m \u001b[1;33m\u001b[0m\u001b[0m\n\u001b[0;32m    741\u001b[0m         \u001b[1;32mif\u001b[0m \u001b[1;32mnot\u001b[0m \u001b[0mresult\u001b[0m\u001b[1;33m:\u001b[0m\u001b[1;33m\u001b[0m\u001b[0m\n",
      "\u001b[1;32mc:\\users\\light\\appdata\\local\\programs\\python\\python36\\lib\\site-packages\\sklearn\\externals\\joblib\\parallel.py\u001b[0m in \u001b[0;36m__call__\u001b[1;34m(self, iterable)\u001b[0m\n\u001b[0;32m    777\u001b[0m             \u001b[1;31m# was dispatched. In particular this covers the edge\u001b[0m\u001b[1;33m\u001b[0m\u001b[1;33m\u001b[0m\u001b[0m\n\u001b[0;32m    778\u001b[0m             \u001b[1;31m# case of Parallel used with an exhausted iterator.\u001b[0m\u001b[1;33m\u001b[0m\u001b[1;33m\u001b[0m\u001b[0m\n\u001b[1;32m--> 779\u001b[1;33m             \u001b[1;32mwhile\u001b[0m \u001b[0mself\u001b[0m\u001b[1;33m.\u001b[0m\u001b[0mdispatch_one_batch\u001b[0m\u001b[1;33m(\u001b[0m\u001b[0miterator\u001b[0m\u001b[1;33m)\u001b[0m\u001b[1;33m:\u001b[0m\u001b[1;33m\u001b[0m\u001b[0m\n\u001b[0m\u001b[0;32m    780\u001b[0m                 \u001b[0mself\u001b[0m\u001b[1;33m.\u001b[0m\u001b[0m_iterating\u001b[0m \u001b[1;33m=\u001b[0m \u001b[1;32mTrue\u001b[0m\u001b[1;33m\u001b[0m\u001b[0m\n\u001b[0;32m    781\u001b[0m             \u001b[1;32melse\u001b[0m\u001b[1;33m:\u001b[0m\u001b[1;33m\u001b[0m\u001b[0m\n",
      "\u001b[1;32mc:\\users\\light\\appdata\\local\\programs\\python\\python36\\lib\\site-packages\\sklearn\\externals\\joblib\\parallel.py\u001b[0m in \u001b[0;36mdispatch_one_batch\u001b[1;34m(self, iterator)\u001b[0m\n\u001b[0;32m    623\u001b[0m                 \u001b[1;32mreturn\u001b[0m \u001b[1;32mFalse\u001b[0m\u001b[1;33m\u001b[0m\u001b[0m\n\u001b[0;32m    624\u001b[0m             \u001b[1;32melse\u001b[0m\u001b[1;33m:\u001b[0m\u001b[1;33m\u001b[0m\u001b[0m\n\u001b[1;32m--> 625\u001b[1;33m                 \u001b[0mself\u001b[0m\u001b[1;33m.\u001b[0m\u001b[0m_dispatch\u001b[0m\u001b[1;33m(\u001b[0m\u001b[0mtasks\u001b[0m\u001b[1;33m)\u001b[0m\u001b[1;33m\u001b[0m\u001b[0m\n\u001b[0m\u001b[0;32m    626\u001b[0m                 \u001b[1;32mreturn\u001b[0m \u001b[1;32mTrue\u001b[0m\u001b[1;33m\u001b[0m\u001b[0m\n\u001b[0;32m    627\u001b[0m \u001b[1;33m\u001b[0m\u001b[0m\n",
      "\u001b[1;32mc:\\users\\light\\appdata\\local\\programs\\python\\python36\\lib\\site-packages\\sklearn\\externals\\joblib\\parallel.py\u001b[0m in \u001b[0;36m_dispatch\u001b[1;34m(self, batch)\u001b[0m\n\u001b[0;32m    586\u001b[0m         \u001b[0mdispatch_timestamp\u001b[0m \u001b[1;33m=\u001b[0m \u001b[0mtime\u001b[0m\u001b[1;33m.\u001b[0m\u001b[0mtime\u001b[0m\u001b[1;33m(\u001b[0m\u001b[1;33m)\u001b[0m\u001b[1;33m\u001b[0m\u001b[0m\n\u001b[0;32m    587\u001b[0m         \u001b[0mcb\u001b[0m \u001b[1;33m=\u001b[0m \u001b[0mBatchCompletionCallBack\u001b[0m\u001b[1;33m(\u001b[0m\u001b[0mdispatch_timestamp\u001b[0m\u001b[1;33m,\u001b[0m \u001b[0mlen\u001b[0m\u001b[1;33m(\u001b[0m\u001b[0mbatch\u001b[0m\u001b[1;33m)\u001b[0m\u001b[1;33m,\u001b[0m \u001b[0mself\u001b[0m\u001b[1;33m)\u001b[0m\u001b[1;33m\u001b[0m\u001b[0m\n\u001b[1;32m--> 588\u001b[1;33m         \u001b[0mjob\u001b[0m \u001b[1;33m=\u001b[0m \u001b[0mself\u001b[0m\u001b[1;33m.\u001b[0m\u001b[0m_backend\u001b[0m\u001b[1;33m.\u001b[0m\u001b[0mapply_async\u001b[0m\u001b[1;33m(\u001b[0m\u001b[0mbatch\u001b[0m\u001b[1;33m,\u001b[0m \u001b[0mcallback\u001b[0m\u001b[1;33m=\u001b[0m\u001b[0mcb\u001b[0m\u001b[1;33m)\u001b[0m\u001b[1;33m\u001b[0m\u001b[0m\n\u001b[0m\u001b[0;32m    589\u001b[0m         \u001b[0mself\u001b[0m\u001b[1;33m.\u001b[0m\u001b[0m_jobs\u001b[0m\u001b[1;33m.\u001b[0m\u001b[0mappend\u001b[0m\u001b[1;33m(\u001b[0m\u001b[0mjob\u001b[0m\u001b[1;33m)\u001b[0m\u001b[1;33m\u001b[0m\u001b[0m\n\u001b[0;32m    590\u001b[0m \u001b[1;33m\u001b[0m\u001b[0m\n",
      "\u001b[1;32mc:\\users\\light\\appdata\\local\\programs\\python\\python36\\lib\\site-packages\\sklearn\\externals\\joblib\\_parallel_backends.py\u001b[0m in \u001b[0;36mapply_async\u001b[1;34m(self, func, callback)\u001b[0m\n\u001b[0;32m    109\u001b[0m     \u001b[1;32mdef\u001b[0m \u001b[0mapply_async\u001b[0m\u001b[1;33m(\u001b[0m\u001b[0mself\u001b[0m\u001b[1;33m,\u001b[0m \u001b[0mfunc\u001b[0m\u001b[1;33m,\u001b[0m \u001b[0mcallback\u001b[0m\u001b[1;33m=\u001b[0m\u001b[1;32mNone\u001b[0m\u001b[1;33m)\u001b[0m\u001b[1;33m:\u001b[0m\u001b[1;33m\u001b[0m\u001b[0m\n\u001b[0;32m    110\u001b[0m         \u001b[1;34m\"\"\"Schedule a func to be run\"\"\"\u001b[0m\u001b[1;33m\u001b[0m\u001b[0m\n\u001b[1;32m--> 111\u001b[1;33m         \u001b[0mresult\u001b[0m \u001b[1;33m=\u001b[0m \u001b[0mImmediateResult\u001b[0m\u001b[1;33m(\u001b[0m\u001b[0mfunc\u001b[0m\u001b[1;33m)\u001b[0m\u001b[1;33m\u001b[0m\u001b[0m\n\u001b[0m\u001b[0;32m    112\u001b[0m         \u001b[1;32mif\u001b[0m \u001b[0mcallback\u001b[0m\u001b[1;33m:\u001b[0m\u001b[1;33m\u001b[0m\u001b[0m\n\u001b[0;32m    113\u001b[0m             \u001b[0mcallback\u001b[0m\u001b[1;33m(\u001b[0m\u001b[0mresult\u001b[0m\u001b[1;33m)\u001b[0m\u001b[1;33m\u001b[0m\u001b[0m\n",
      "\u001b[1;32mc:\\users\\light\\appdata\\local\\programs\\python\\python36\\lib\\site-packages\\sklearn\\externals\\joblib\\_parallel_backends.py\u001b[0m in \u001b[0;36m__init__\u001b[1;34m(self, batch)\u001b[0m\n\u001b[0;32m    330\u001b[0m         \u001b[1;31m# Don't delay the application, to avoid keeping the input\u001b[0m\u001b[1;33m\u001b[0m\u001b[1;33m\u001b[0m\u001b[0m\n\u001b[0;32m    331\u001b[0m         \u001b[1;31m# arguments in memory\u001b[0m\u001b[1;33m\u001b[0m\u001b[1;33m\u001b[0m\u001b[0m\n\u001b[1;32m--> 332\u001b[1;33m         \u001b[0mself\u001b[0m\u001b[1;33m.\u001b[0m\u001b[0mresults\u001b[0m \u001b[1;33m=\u001b[0m \u001b[0mbatch\u001b[0m\u001b[1;33m(\u001b[0m\u001b[1;33m)\u001b[0m\u001b[1;33m\u001b[0m\u001b[0m\n\u001b[0m\u001b[0;32m    333\u001b[0m \u001b[1;33m\u001b[0m\u001b[0m\n\u001b[0;32m    334\u001b[0m     \u001b[1;32mdef\u001b[0m \u001b[0mget\u001b[0m\u001b[1;33m(\u001b[0m\u001b[0mself\u001b[0m\u001b[1;33m)\u001b[0m\u001b[1;33m:\u001b[0m\u001b[1;33m\u001b[0m\u001b[0m\n",
      "\u001b[1;32mc:\\users\\light\\appdata\\local\\programs\\python\\python36\\lib\\site-packages\\sklearn\\externals\\joblib\\parallel.py\u001b[0m in \u001b[0;36m__call__\u001b[1;34m(self)\u001b[0m\n\u001b[0;32m    129\u001b[0m \u001b[1;33m\u001b[0m\u001b[0m\n\u001b[0;32m    130\u001b[0m     \u001b[1;32mdef\u001b[0m \u001b[0m__call__\u001b[0m\u001b[1;33m(\u001b[0m\u001b[0mself\u001b[0m\u001b[1;33m)\u001b[0m\u001b[1;33m:\u001b[0m\u001b[1;33m\u001b[0m\u001b[0m\n\u001b[1;32m--> 131\u001b[1;33m         \u001b[1;32mreturn\u001b[0m \u001b[1;33m[\u001b[0m\u001b[0mfunc\u001b[0m\u001b[1;33m(\u001b[0m\u001b[1;33m*\u001b[0m\u001b[0margs\u001b[0m\u001b[1;33m,\u001b[0m \u001b[1;33m**\u001b[0m\u001b[0mkwargs\u001b[0m\u001b[1;33m)\u001b[0m \u001b[1;32mfor\u001b[0m \u001b[0mfunc\u001b[0m\u001b[1;33m,\u001b[0m \u001b[0margs\u001b[0m\u001b[1;33m,\u001b[0m \u001b[0mkwargs\u001b[0m \u001b[1;32min\u001b[0m \u001b[0mself\u001b[0m\u001b[1;33m.\u001b[0m\u001b[0mitems\u001b[0m\u001b[1;33m]\u001b[0m\u001b[1;33m\u001b[0m\u001b[0m\n\u001b[0m\u001b[0;32m    132\u001b[0m \u001b[1;33m\u001b[0m\u001b[0m\n\u001b[0;32m    133\u001b[0m     \u001b[1;32mdef\u001b[0m \u001b[0m__len__\u001b[0m\u001b[1;33m(\u001b[0m\u001b[0mself\u001b[0m\u001b[1;33m)\u001b[0m\u001b[1;33m:\u001b[0m\u001b[1;33m\u001b[0m\u001b[0m\n",
      "\u001b[1;32mc:\\users\\light\\appdata\\local\\programs\\python\\python36\\lib\\site-packages\\sklearn\\externals\\joblib\\parallel.py\u001b[0m in \u001b[0;36m<listcomp>\u001b[1;34m(.0)\u001b[0m\n\u001b[0;32m    129\u001b[0m \u001b[1;33m\u001b[0m\u001b[0m\n\u001b[0;32m    130\u001b[0m     \u001b[1;32mdef\u001b[0m \u001b[0m__call__\u001b[0m\u001b[1;33m(\u001b[0m\u001b[0mself\u001b[0m\u001b[1;33m)\u001b[0m\u001b[1;33m:\u001b[0m\u001b[1;33m\u001b[0m\u001b[0m\n\u001b[1;32m--> 131\u001b[1;33m         \u001b[1;32mreturn\u001b[0m \u001b[1;33m[\u001b[0m\u001b[0mfunc\u001b[0m\u001b[1;33m(\u001b[0m\u001b[1;33m*\u001b[0m\u001b[0margs\u001b[0m\u001b[1;33m,\u001b[0m \u001b[1;33m**\u001b[0m\u001b[0mkwargs\u001b[0m\u001b[1;33m)\u001b[0m \u001b[1;32mfor\u001b[0m \u001b[0mfunc\u001b[0m\u001b[1;33m,\u001b[0m \u001b[0margs\u001b[0m\u001b[1;33m,\u001b[0m \u001b[0mkwargs\u001b[0m \u001b[1;32min\u001b[0m \u001b[0mself\u001b[0m\u001b[1;33m.\u001b[0m\u001b[0mitems\u001b[0m\u001b[1;33m]\u001b[0m\u001b[1;33m\u001b[0m\u001b[0m\n\u001b[0m\u001b[0;32m    132\u001b[0m \u001b[1;33m\u001b[0m\u001b[0m\n\u001b[0;32m    133\u001b[0m     \u001b[1;32mdef\u001b[0m \u001b[0m__len__\u001b[0m\u001b[1;33m(\u001b[0m\u001b[0mself\u001b[0m\u001b[1;33m)\u001b[0m\u001b[1;33m:\u001b[0m\u001b[1;33m\u001b[0m\u001b[0m\n",
      "\u001b[1;32mc:\\users\\light\\appdata\\local\\programs\\python\\python36\\lib\\site-packages\\sklearn\\pipeline.py\u001b[0m in \u001b[0;36m_fit_transform_one\u001b[1;34m(transformer, weight, X, y, **fit_params)\u001b[0m\n\u001b[0;32m    579\u001b[0m                        **fit_params):\n\u001b[0;32m    580\u001b[0m     \u001b[1;32mif\u001b[0m \u001b[0mhasattr\u001b[0m\u001b[1;33m(\u001b[0m\u001b[0mtransformer\u001b[0m\u001b[1;33m,\u001b[0m \u001b[1;34m'fit_transform'\u001b[0m\u001b[1;33m)\u001b[0m\u001b[1;33m:\u001b[0m\u001b[1;33m\u001b[0m\u001b[0m\n\u001b[1;32m--> 581\u001b[1;33m         \u001b[0mres\u001b[0m \u001b[1;33m=\u001b[0m \u001b[0mtransformer\u001b[0m\u001b[1;33m.\u001b[0m\u001b[0mfit_transform\u001b[0m\u001b[1;33m(\u001b[0m\u001b[0mX\u001b[0m\u001b[1;33m,\u001b[0m \u001b[0my\u001b[0m\u001b[1;33m,\u001b[0m \u001b[1;33m**\u001b[0m\u001b[0mfit_params\u001b[0m\u001b[1;33m)\u001b[0m\u001b[1;33m\u001b[0m\u001b[0m\n\u001b[0m\u001b[0;32m    582\u001b[0m     \u001b[1;32melse\u001b[0m\u001b[1;33m:\u001b[0m\u001b[1;33m\u001b[0m\u001b[0m\n\u001b[0;32m    583\u001b[0m         \u001b[0mres\u001b[0m \u001b[1;33m=\u001b[0m \u001b[0mtransformer\u001b[0m\u001b[1;33m.\u001b[0m\u001b[0mfit\u001b[0m\u001b[1;33m(\u001b[0m\u001b[0mX\u001b[0m\u001b[1;33m,\u001b[0m \u001b[0my\u001b[0m\u001b[1;33m,\u001b[0m \u001b[1;33m**\u001b[0m\u001b[0mfit_params\u001b[0m\u001b[1;33m)\u001b[0m\u001b[1;33m.\u001b[0m\u001b[0mtransform\u001b[0m\u001b[1;33m(\u001b[0m\u001b[0mX\u001b[0m\u001b[1;33m)\u001b[0m\u001b[1;33m\u001b[0m\u001b[0m\n",
      "\u001b[1;32mc:\\users\\light\\appdata\\local\\programs\\python\\python36\\lib\\site-packages\\sklearn\\feature_extraction\\text.py\u001b[0m in \u001b[0;36mfit_transform\u001b[1;34m(self, raw_documents, y)\u001b[0m\n\u001b[0;32m   1379\u001b[0m             \u001b[0mTf\u001b[0m\u001b[1;33m-\u001b[0m\u001b[0midf\u001b[0m\u001b[1;33m-\u001b[0m\u001b[0mweighted\u001b[0m \u001b[0mdocument\u001b[0m\u001b[1;33m-\u001b[0m\u001b[0mterm\u001b[0m \u001b[0mmatrix\u001b[0m\u001b[1;33m.\u001b[0m\u001b[1;33m\u001b[0m\u001b[0m\n\u001b[0;32m   1380\u001b[0m         \"\"\"\n\u001b[1;32m-> 1381\u001b[1;33m         \u001b[0mX\u001b[0m \u001b[1;33m=\u001b[0m \u001b[0msuper\u001b[0m\u001b[1;33m(\u001b[0m\u001b[0mTfidfVectorizer\u001b[0m\u001b[1;33m,\u001b[0m \u001b[0mself\u001b[0m\u001b[1;33m)\u001b[0m\u001b[1;33m.\u001b[0m\u001b[0mfit_transform\u001b[0m\u001b[1;33m(\u001b[0m\u001b[0mraw_documents\u001b[0m\u001b[1;33m)\u001b[0m\u001b[1;33m\u001b[0m\u001b[0m\n\u001b[0m\u001b[0;32m   1382\u001b[0m         \u001b[0mself\u001b[0m\u001b[1;33m.\u001b[0m\u001b[0m_tfidf\u001b[0m\u001b[1;33m.\u001b[0m\u001b[0mfit\u001b[0m\u001b[1;33m(\u001b[0m\u001b[0mX\u001b[0m\u001b[1;33m)\u001b[0m\u001b[1;33m\u001b[0m\u001b[0m\n\u001b[0;32m   1383\u001b[0m         \u001b[1;31m# X is already a transformed view of raw_documents so\u001b[0m\u001b[1;33m\u001b[0m\u001b[1;33m\u001b[0m\u001b[0m\n",
      "\u001b[1;32mc:\\users\\light\\appdata\\local\\programs\\python\\python36\\lib\\site-packages\\sklearn\\feature_extraction\\text.py\u001b[0m in \u001b[0;36mfit_transform\u001b[1;34m(self, raw_documents, y)\u001b[0m\n\u001b[0;32m    873\u001b[0m \u001b[1;33m\u001b[0m\u001b[0m\n\u001b[0;32m    874\u001b[0m         \u001b[1;32mif\u001b[0m \u001b[1;32mnot\u001b[0m \u001b[0mself\u001b[0m\u001b[1;33m.\u001b[0m\u001b[0mfixed_vocabulary_\u001b[0m\u001b[1;33m:\u001b[0m\u001b[1;33m\u001b[0m\u001b[0m\n\u001b[1;32m--> 875\u001b[1;33m             \u001b[0mX\u001b[0m \u001b[1;33m=\u001b[0m \u001b[0mself\u001b[0m\u001b[1;33m.\u001b[0m\u001b[0m_sort_features\u001b[0m\u001b[1;33m(\u001b[0m\u001b[0mX\u001b[0m\u001b[1;33m,\u001b[0m \u001b[0mvocabulary\u001b[0m\u001b[1;33m)\u001b[0m\u001b[1;33m\u001b[0m\u001b[0m\n\u001b[0m\u001b[0;32m    876\u001b[0m \u001b[1;33m\u001b[0m\u001b[0m\n\u001b[0;32m    877\u001b[0m             \u001b[0mn_doc\u001b[0m \u001b[1;33m=\u001b[0m \u001b[0mX\u001b[0m\u001b[1;33m.\u001b[0m\u001b[0mshape\u001b[0m\u001b[1;33m[\u001b[0m\u001b[1;36m0\u001b[0m\u001b[1;33m]\u001b[0m\u001b[1;33m\u001b[0m\u001b[0m\n",
      "\u001b[1;32mc:\\users\\light\\appdata\\local\\programs\\python\\python36\\lib\\site-packages\\sklearn\\feature_extraction\\text.py\u001b[0m in \u001b[0;36m_sort_features\u001b[1;34m(self, X, vocabulary)\u001b[0m\n\u001b[0;32m    729\u001b[0m             \u001b[0mmap_index\u001b[0m\u001b[1;33m[\u001b[0m\u001b[0mold_val\u001b[0m\u001b[1;33m]\u001b[0m \u001b[1;33m=\u001b[0m \u001b[0mnew_val\u001b[0m\u001b[1;33m\u001b[0m\u001b[0m\n\u001b[0;32m    730\u001b[0m \u001b[1;33m\u001b[0m\u001b[0m\n\u001b[1;32m--> 731\u001b[1;33m         \u001b[0mX\u001b[0m\u001b[1;33m.\u001b[0m\u001b[0mindices\u001b[0m \u001b[1;33m=\u001b[0m \u001b[0mmap_index\u001b[0m\u001b[1;33m.\u001b[0m\u001b[0mtake\u001b[0m\u001b[1;33m(\u001b[0m\u001b[0mX\u001b[0m\u001b[1;33m.\u001b[0m\u001b[0mindices\u001b[0m\u001b[1;33m,\u001b[0m \u001b[0mmode\u001b[0m\u001b[1;33m=\u001b[0m\u001b[1;34m'clip'\u001b[0m\u001b[1;33m)\u001b[0m\u001b[1;33m\u001b[0m\u001b[0m\n\u001b[0m\u001b[0;32m    732\u001b[0m         \u001b[1;32mreturn\u001b[0m \u001b[0mX\u001b[0m\u001b[1;33m\u001b[0m\u001b[0m\n\u001b[0;32m    733\u001b[0m \u001b[1;33m\u001b[0m\u001b[0m\n",
      "\u001b[1;31mMemoryError\u001b[0m: "
     ]
    }
   ],
   "source": [
    "X_ = vectorizer.fit_transform(df_.values)"
   ]
  },
  {
   "cell_type": "code",
   "execution_count": null,
   "metadata": {},
   "outputs": [],
   "source": [
    "# 传入数据集进行处理\n",
    "\n",
    "# 训练数据的行数\n",
    "nrow_train = X_train.shape[0]\n",
    "# nrow_train = train_data.shape[0]\n",
    "# 处理后的训练数据\n",
    "X_train = X_[:nrow_train]\n",
    "# 处理后的测试数据\n",
    "X_test = X_[nrow_train:]"
   ]
  },
  {
   "cell_type": "code",
   "execution_count": null,
   "metadata": {},
   "outputs": [],
   "source": [
    "from sklearn.metrics import mean_squared_log_error\n",
    "def ridgeClassify(train_data, train_label, alpha):\n",
    "    ridgeClf = Ridge(\n",
    "        solver='auto',\n",
    "        fit_intercept=True,\n",
    "        alpha=alpha,\n",
    "        max_iter=550,\n",
    "        normalize=False,\n",
    "        tol=0.01)\n",
    "    # 训练\n",
    "    ridgeClf.fit(train_data, train_label)\n",
    "    return ridgeClf"
   ]
  },
  {
   "cell_type": "code",
   "execution_count": null,
   "metadata": {},
   "outputs": [],
   "source": [
    "from sklearn.metrics import mean_squared_log_error\n",
    "ridgeClf = ridgeClassify(X_train, y_train, 3.7)\n",
    "# 结果预测\n",
    "test_price = ridgeClf.predict(X_test)\n"
   ]
  },
  {
   "cell_type": "code",
   "execution_count": null,
   "metadata": {},
   "outputs": [],
   "source": [
    "mean_squared_log_error(y_test, np.expm1(test_price))"
   ]
  },
  {
   "cell_type": "code",
   "execution_count": null,
   "metadata": {},
   "outputs": [],
   "source": [
    "res_alpha = []\n",
    "for alpha in [3,3.1,3.2,3.3,3.4,3.5,3.6,3.7,3.8,3.9,4]:\n",
    "    ridgeClf = ridgeClassify(X_train, y_train, alpha)\n",
    "# 结果预测\n",
    "    test_price = ridgeClf.predict(X_test)\n",
    "    msle = mean_squared_log_error(y_test, np.expm1(test_price))\n",
    "    res_alpha.append(msle)"
   ]
  },
  {
   "cell_type": "code",
   "execution_count": null,
   "metadata": {},
   "outputs": [],
   "source": [
    "mean_squared_log_error(np.expm1(y_test), np.expm1(test_price))\n",
    "# mean_squared_log_error(true_price, np.expm1(test_price))"
   ]
  },
  {
   "cell_type": "code",
   "execution_count": null,
   "metadata": {},
   "outputs": [],
   "source": [
    "import keras\n",
    "from keras.models import Sequential\n",
    "from keras.layers import Dense\n",
    "from keras.wrappers.scikit_learn import KerasRegressor"
   ]
  },
  {
   "cell_type": "code",
   "execution_count": null,
   "metadata": {},
   "outputs": [],
   "source": [
    "def regressor_model():  #Keras wrapper always requires function as an argument so creating this function.\n",
    "    # Creating my model:\n",
    "    model = Sequential()\n",
    "    model.add(Dense(units = 8,kernel_initializer = 'uniform', activation = 'relu', input_dim = 449780))\n",
    "    model.add(Dense(units = 4, kernel_initializer = 'uniform', activation = 'relu'))\n",
    "    # model.add(Dense(units = 16, kernel_initializer = 'uniform', activation = 'relu'))\n",
    "    # model.add(Dense(units = 8, kernel_initializer = 'uniform', activation = 'relu'))\n",
    "    model.add(Dense(1, init='uniform'))\n",
    "    # Compiling my model:\n",
    "    model.compile(loss='mse', optimizer='adam', metrics=['mse'])\n",
    "    return model\n",
    "\n",
    "from sklearn.pipeline import Pipeline\n",
    "\n",
    "estimators = []\n",
    "estimators.append(('mlp', KerasRegressor(build_fn= regressor_model, epochs=5, validation_data=(X_test, y_test),verbose=1)))\n",
    "\n",
    "pipeline = Pipeline(estimators)\n",
    "\n",
    "pipeline.fit(X_train,y_train)\n"
   ]
  },
  {
   "cell_type": "code",
   "execution_count": null,
   "metadata": {},
   "outputs": [],
   "source": [
    "target_pred = pipeline.predict(X_test)"
   ]
  },
  {
   "cell_type": "code",
   "execution_count": null,
   "metadata": {},
   "outputs": [],
   "source": [
    "from sklearn.metrics import mean_squared_error"
   ]
  },
  {
   "cell_type": "code",
   "execution_count": 61,
   "metadata": {},
   "outputs": [
    {
     "data": {
      "text/plain": [
       "0.22797919787322626"
      ]
     },
     "execution_count": 61,
     "metadata": {},
     "output_type": "execute_result"
    }
   ],
   "source": [
    "mean_squared_log_error(y_test, np.expm1(target_pred))"
   ]
  },
  {
   "cell_type": "code",
   "execution_count": 1,
   "metadata": {},
   "outputs": [
    {
     "ename": "NameError",
     "evalue": "name 'lgb' is not defined",
     "output_type": "error",
     "traceback": [
      "\u001b[1;31m---------------------------------------------------------------------------\u001b[0m",
      "\u001b[1;31mNameError\u001b[0m                                 Traceback (most recent call last)",
      "\u001b[1;32m<ipython-input-1-e6998135a7db>\u001b[0m in \u001b[0;36m<module>\u001b[1;34m()\u001b[0m\n\u001b[0;32m     13\u001b[0m \u001b[1;33m\u001b[0m\u001b[0m\n\u001b[0;32m     14\u001b[0m \u001b[1;33m\u001b[0m\u001b[0m\n\u001b[1;32m---> 15\u001b[1;33m \u001b[0mlgb_train\u001b[0m \u001b[1;33m=\u001b[0m \u001b[0mlgb\u001b[0m\u001b[1;33m.\u001b[0m\u001b[0mDataset\u001b[0m\u001b[1;33m(\u001b[0m\u001b[0mX_train\u001b[0m\u001b[1;33m,\u001b[0m \u001b[0my_train\u001b[0m\u001b[1;33m)\u001b[0m \u001b[1;31m# 将数据保存到LightGBM二进制文件将使加载更快\u001b[0m\u001b[1;33m\u001b[0m\u001b[0m\n\u001b[0m\u001b[0;32m     16\u001b[0m \u001b[0mlgb_eval\u001b[0m \u001b[1;33m=\u001b[0m \u001b[0mlgb\u001b[0m\u001b[1;33m.\u001b[0m\u001b[0mDataset\u001b[0m\u001b[1;33m(\u001b[0m\u001b[0mX_test\u001b[0m\u001b[1;33m,\u001b[0m \u001b[0my_test\u001b[0m\u001b[1;33m,\u001b[0m \u001b[0mreference\u001b[0m\u001b[1;33m=\u001b[0m\u001b[0mlgb_train\u001b[0m\u001b[1;33m)\u001b[0m  \u001b[1;31m# 创建验证数据\u001b[0m\u001b[1;33m\u001b[0m\u001b[0m\n\u001b[0;32m     17\u001b[0m \u001b[0mgbm\u001b[0m \u001b[1;33m=\u001b[0m \u001b[0mlgb\u001b[0m\u001b[1;33m.\u001b[0m\u001b[0mtrain\u001b[0m\u001b[1;33m(\u001b[0m\u001b[0mparams\u001b[0m\u001b[1;33m,\u001b[0m\u001b[0mlgb_train\u001b[0m\u001b[1;33m,\u001b[0m\u001b[0mnum_boost_round\u001b[0m\u001b[1;33m=\u001b[0m\u001b[1;36m1000\u001b[0m\u001b[1;33m,\u001b[0m\u001b[0mvalid_sets\u001b[0m\u001b[1;33m=\u001b[0m\u001b[0mlgb_eval\u001b[0m\u001b[1;33m,\u001b[0m\u001b[0mearly_stopping_rounds\u001b[0m\u001b[1;33m=\u001b[0m\u001b[1;36m15\u001b[0m\u001b[1;33m)\u001b[0m \u001b[1;31m# 训练数据需要参数列表和数据集\u001b[0m\u001b[1;33m\u001b[0m\u001b[0m\n",
      "\u001b[1;31mNameError\u001b[0m: name 'lgb' is not defined"
     ]
    }
   ],
   "source": [
    "import lightgbm as lgb\n",
    "params = {\n",
    "    'task': 'train',\n",
    "    'boosting_type': 'gbdt',  # 设置提升类型\n",
    "    'objective': 'regression', # 目标函数\n",
    "    'metric': {'l2','mse'},  # 评估函数\n",
    "    'num_leaves': 63,   # 叶子节点数\n",
    "    'learning_rate': 0.1,  # 学习速率\n",
    "    'feature_fraction': 1, # 建树的特征选择比例\n",
    "    'bagging_fraction': 0.9, # 建树的样本采样比例\n",
    "    'bagging_freq': 5,  # k 意味着每 k 次迭代执行bagging\n",
    "    'verbose': 1, # <0 显示致命的, =0 显示错误 (警告), >0 显示信息\n",
    "    'num_threads': 20,\n",
    "    'batch_size': 32\n",
    "}\n",
    "\n",
    "\n",
    "\n",
    "lgb_train = lgb.Dataset(X_train, y_train) # 将数据保存到LightGBM二进制文件将使加载更快\n",
    "lgb_eval = lgb.Dataset(X_test, y_test, reference=lgb_train)  # 创建验证数据\n",
    "gbm = lgb.train(params,lgb_train,num_boost_round=2000,valid_sets=lgb_eval,early_stopping_rounds=15) # 训练数据需要参数列\n",
    "target_pred = gbm.predict(X_test, num_iteration=gbm.best_iteration)\n"
   ]
  },
  {
   "cell_type": "code",
   "execution_count": 48,
   "metadata": {},
   "outputs": [
    {
     "data": {
      "text/plain": [
       "array([26.54491839,  9.48372781, 23.45109831, ...,  8.7466514 ,\n",
       "       14.64856352,  9.19845095])"
      ]
     },
     "execution_count": 48,
     "metadata": {},
     "output_type": "execute_result"
    }
   ],
   "source": [
    "test_price_ = (test_price+test_price1+test_price2)/3\n",
    "np.expm1(test_price_)"
   ]
  },
  {
   "cell_type": "code",
   "execution_count": 47,
   "metadata": {},
   "outputs": [
    {
     "data": {
      "text/plain": [
       "array([26.75759829,  9.51020486, 23.71921639, ...,  8.81423887,\n",
       "       14.74164574,  9.17771885])"
      ]
     },
     "execution_count": 47,
     "metadata": {},
     "output_type": "execute_result"
    }
   ],
   "source": [
    "np.expm1(test_price)"
   ]
  },
  {
   "cell_type": "code",
   "execution_count": 36,
   "metadata": {},
   "outputs": [
    {
     "data": {
      "text/plain": [
       "array([26.63095679,  9.50353327, 23.25753173, ...,  8.74047316,\n",
       "       14.65913682,  9.237358  ])"
      ]
     },
     "execution_count": 36,
     "metadata": {},
     "output_type": "execute_result"
    }
   ],
   "source": [
    "np.expm1(test_price1)"
   ]
  },
  {
   "cell_type": "code",
   "execution_count": 46,
   "metadata": {},
   "outputs": [
    {
     "data": {
      "text/plain": [
       "array([26.24875475,  9.43759914, 23.37888328, ...,  8.68566898,\n",
       "       14.54552804,  9.18038715])"
      ]
     },
     "execution_count": 46,
     "metadata": {},
     "output_type": "execute_result"
    }
   ],
   "source": [
    "np.expm1(test_price2)"
   ]
  },
  {
   "cell_type": "code",
   "execution_count": 49,
   "metadata": {},
   "outputs": [],
   "source": [
    "res = np.expm1(test_price_)\n",
    "res1 = pd.DataFrame(res)\n",
    "# temp = pd.read_csv('data/test1.csv', sep=\"\\t\")"
   ]
  },
  {
   "cell_type": "code",
   "execution_count": 50,
   "metadata": {},
   "outputs": [],
   "source": [
    "res1.columns=['price']\n",
    "res1 = pd.concat([test_data['test_id'],res1['price']], axis=1)"
   ]
  },
  {
   "cell_type": "code",
   "execution_count": 43,
   "metadata": {},
   "outputs": [
    {
     "data": {
      "text/plain": [
       "array([26.63095679,  9.50353327, 23.25753173, ...,  8.74047316,\n",
       "       14.65913682,  9.237358  ])"
      ]
     },
     "execution_count": 43,
     "metadata": {},
     "output_type": "execute_result"
    }
   ],
   "source": [
    "np.expm1(test_price1)"
   ]
  },
  {
   "cell_type": "code",
   "execution_count": 44,
   "metadata": {},
   "outputs": [
    {
     "data": {
      "text/plain": [
       "array([26.75759829,  9.51020486, 23.71921639, ...,  8.81423887,\n",
       "       14.74164574,  9.17771885])"
      ]
     },
     "execution_count": 44,
     "metadata": {},
     "output_type": "execute_result"
    }
   ],
   "source": [
    "np.expm1(test_price)"
   ]
  },
  {
   "cell_type": "code",
   "execution_count": 51,
   "metadata": {},
   "outputs": [
    {
     "data": {
      "text/html": [
       "<div>\n",
       "<style scoped>\n",
       "    .dataframe tbody tr th:only-of-type {\n",
       "        vertical-align: middle;\n",
       "    }\n",
       "\n",
       "    .dataframe tbody tr th {\n",
       "        vertical-align: top;\n",
       "    }\n",
       "\n",
       "    .dataframe thead th {\n",
       "        text-align: right;\n",
       "    }\n",
       "</style>\n",
       "<table border=\"1\" class=\"dataframe\">\n",
       "  <thead>\n",
       "    <tr style=\"text-align: right;\">\n",
       "      <th></th>\n",
       "      <th>test_id</th>\n",
       "      <th>price</th>\n",
       "    </tr>\n",
       "  </thead>\n",
       "  <tbody>\n",
       "    <tr>\n",
       "      <th>0</th>\n",
       "      <td>0</td>\n",
       "      <td>26.544918</td>\n",
       "    </tr>\n",
       "    <tr>\n",
       "      <th>1</th>\n",
       "      <td>1</td>\n",
       "      <td>9.483728</td>\n",
       "    </tr>\n",
       "    <tr>\n",
       "      <th>2</th>\n",
       "      <td>2</td>\n",
       "      <td>23.451098</td>\n",
       "    </tr>\n",
       "    <tr>\n",
       "      <th>3</th>\n",
       "      <td>3</td>\n",
       "      <td>23.190654</td>\n",
       "    </tr>\n",
       "    <tr>\n",
       "      <th>4</th>\n",
       "      <td>4</td>\n",
       "      <td>7.337061</td>\n",
       "    </tr>\n",
       "    <tr>\n",
       "      <th>5</th>\n",
       "      <td>5</td>\n",
       "      <td>10.530961</td>\n",
       "    </tr>\n",
       "    <tr>\n",
       "      <th>6</th>\n",
       "      <td>6</td>\n",
       "      <td>10.149368</td>\n",
       "    </tr>\n",
       "    <tr>\n",
       "      <th>7</th>\n",
       "      <td>7</td>\n",
       "      <td>18.812928</td>\n",
       "    </tr>\n",
       "    <tr>\n",
       "      <th>8</th>\n",
       "      <td>8</td>\n",
       "      <td>7.382025</td>\n",
       "    </tr>\n",
       "    <tr>\n",
       "      <th>9</th>\n",
       "      <td>9</td>\n",
       "      <td>27.889915</td>\n",
       "    </tr>\n",
       "    <tr>\n",
       "      <th>10</th>\n",
       "      <td>10</td>\n",
       "      <td>28.894039</td>\n",
       "    </tr>\n",
       "    <tr>\n",
       "      <th>11</th>\n",
       "      <td>11</td>\n",
       "      <td>20.264306</td>\n",
       "    </tr>\n",
       "    <tr>\n",
       "      <th>12</th>\n",
       "      <td>12</td>\n",
       "      <td>21.633493</td>\n",
       "    </tr>\n",
       "    <tr>\n",
       "      <th>13</th>\n",
       "      <td>13</td>\n",
       "      <td>13.002660</td>\n",
       "    </tr>\n",
       "    <tr>\n",
       "      <th>14</th>\n",
       "      <td>14</td>\n",
       "      <td>19.935784</td>\n",
       "    </tr>\n",
       "    <tr>\n",
       "      <th>15</th>\n",
       "      <td>15</td>\n",
       "      <td>3.560384</td>\n",
       "    </tr>\n",
       "    <tr>\n",
       "      <th>16</th>\n",
       "      <td>16</td>\n",
       "      <td>23.175332</td>\n",
       "    </tr>\n",
       "    <tr>\n",
       "      <th>17</th>\n",
       "      <td>17</td>\n",
       "      <td>14.326764</td>\n",
       "    </tr>\n",
       "    <tr>\n",
       "      <th>18</th>\n",
       "      <td>18</td>\n",
       "      <td>8.447754</td>\n",
       "    </tr>\n",
       "    <tr>\n",
       "      <th>19</th>\n",
       "      <td>19</td>\n",
       "      <td>6.392696</td>\n",
       "    </tr>\n",
       "    <tr>\n",
       "      <th>20</th>\n",
       "      <td>20</td>\n",
       "      <td>11.655086</td>\n",
       "    </tr>\n",
       "    <tr>\n",
       "      <th>21</th>\n",
       "      <td>21</td>\n",
       "      <td>30.082438</td>\n",
       "    </tr>\n",
       "    <tr>\n",
       "      <th>22</th>\n",
       "      <td>22</td>\n",
       "      <td>22.218404</td>\n",
       "    </tr>\n",
       "    <tr>\n",
       "      <th>23</th>\n",
       "      <td>23</td>\n",
       "      <td>27.658602</td>\n",
       "    </tr>\n",
       "    <tr>\n",
       "      <th>24</th>\n",
       "      <td>24</td>\n",
       "      <td>10.849112</td>\n",
       "    </tr>\n",
       "    <tr>\n",
       "      <th>25</th>\n",
       "      <td>25</td>\n",
       "      <td>5.802027</td>\n",
       "    </tr>\n",
       "    <tr>\n",
       "      <th>26</th>\n",
       "      <td>26</td>\n",
       "      <td>15.908863</td>\n",
       "    </tr>\n",
       "    <tr>\n",
       "      <th>27</th>\n",
       "      <td>27</td>\n",
       "      <td>46.306977</td>\n",
       "    </tr>\n",
       "    <tr>\n",
       "      <th>28</th>\n",
       "      <td>28</td>\n",
       "      <td>40.563636</td>\n",
       "    </tr>\n",
       "    <tr>\n",
       "      <th>29</th>\n",
       "      <td>29</td>\n",
       "      <td>10.756253</td>\n",
       "    </tr>\n",
       "    <tr>\n",
       "      <th>...</th>\n",
       "      <td>...</td>\n",
       "      <td>...</td>\n",
       "    </tr>\n",
       "    <tr>\n",
       "      <th>24955</th>\n",
       "      <td>24955</td>\n",
       "      <td>24.276153</td>\n",
       "    </tr>\n",
       "    <tr>\n",
       "      <th>24956</th>\n",
       "      <td>24956</td>\n",
       "      <td>11.908931</td>\n",
       "    </tr>\n",
       "    <tr>\n",
       "      <th>24957</th>\n",
       "      <td>24957</td>\n",
       "      <td>8.467926</td>\n",
       "    </tr>\n",
       "    <tr>\n",
       "      <th>24958</th>\n",
       "      <td>24958</td>\n",
       "      <td>6.163243</td>\n",
       "    </tr>\n",
       "    <tr>\n",
       "      <th>24959</th>\n",
       "      <td>24959</td>\n",
       "      <td>23.370188</td>\n",
       "    </tr>\n",
       "    <tr>\n",
       "      <th>24960</th>\n",
       "      <td>24960</td>\n",
       "      <td>16.812987</td>\n",
       "    </tr>\n",
       "    <tr>\n",
       "      <th>24961</th>\n",
       "      <td>24961</td>\n",
       "      <td>9.330337</td>\n",
       "    </tr>\n",
       "    <tr>\n",
       "      <th>24962</th>\n",
       "      <td>24962</td>\n",
       "      <td>28.169458</td>\n",
       "    </tr>\n",
       "    <tr>\n",
       "      <th>24963</th>\n",
       "      <td>24963</td>\n",
       "      <td>13.298221</td>\n",
       "    </tr>\n",
       "    <tr>\n",
       "      <th>24964</th>\n",
       "      <td>24964</td>\n",
       "      <td>9.191106</td>\n",
       "    </tr>\n",
       "    <tr>\n",
       "      <th>24965</th>\n",
       "      <td>24965</td>\n",
       "      <td>11.835516</td>\n",
       "    </tr>\n",
       "    <tr>\n",
       "      <th>24966</th>\n",
       "      <td>24966</td>\n",
       "      <td>20.913476</td>\n",
       "    </tr>\n",
       "    <tr>\n",
       "      <th>24967</th>\n",
       "      <td>24967</td>\n",
       "      <td>16.767180</td>\n",
       "    </tr>\n",
       "    <tr>\n",
       "      <th>24968</th>\n",
       "      <td>24968</td>\n",
       "      <td>9.674627</td>\n",
       "    </tr>\n",
       "    <tr>\n",
       "      <th>24969</th>\n",
       "      <td>24969</td>\n",
       "      <td>15.062715</td>\n",
       "    </tr>\n",
       "    <tr>\n",
       "      <th>24970</th>\n",
       "      <td>24970</td>\n",
       "      <td>6.826514</td>\n",
       "    </tr>\n",
       "    <tr>\n",
       "      <th>24971</th>\n",
       "      <td>24971</td>\n",
       "      <td>16.588722</td>\n",
       "    </tr>\n",
       "    <tr>\n",
       "      <th>24972</th>\n",
       "      <td>24972</td>\n",
       "      <td>12.733194</td>\n",
       "    </tr>\n",
       "    <tr>\n",
       "      <th>24973</th>\n",
       "      <td>24973</td>\n",
       "      <td>19.355975</td>\n",
       "    </tr>\n",
       "    <tr>\n",
       "      <th>24974</th>\n",
       "      <td>24974</td>\n",
       "      <td>14.863952</td>\n",
       "    </tr>\n",
       "    <tr>\n",
       "      <th>24975</th>\n",
       "      <td>24975</td>\n",
       "      <td>13.990766</td>\n",
       "    </tr>\n",
       "    <tr>\n",
       "      <th>24976</th>\n",
       "      <td>24976</td>\n",
       "      <td>25.004945</td>\n",
       "    </tr>\n",
       "    <tr>\n",
       "      <th>24977</th>\n",
       "      <td>24977</td>\n",
       "      <td>11.491218</td>\n",
       "    </tr>\n",
       "    <tr>\n",
       "      <th>24978</th>\n",
       "      <td>24978</td>\n",
       "      <td>19.487086</td>\n",
       "    </tr>\n",
       "    <tr>\n",
       "      <th>24979</th>\n",
       "      <td>24979</td>\n",
       "      <td>16.432804</td>\n",
       "    </tr>\n",
       "    <tr>\n",
       "      <th>24980</th>\n",
       "      <td>24980</td>\n",
       "      <td>34.892882</td>\n",
       "    </tr>\n",
       "    <tr>\n",
       "      <th>24981</th>\n",
       "      <td>24981</td>\n",
       "      <td>19.735433</td>\n",
       "    </tr>\n",
       "    <tr>\n",
       "      <th>24982</th>\n",
       "      <td>24982</td>\n",
       "      <td>8.746651</td>\n",
       "    </tr>\n",
       "    <tr>\n",
       "      <th>24983</th>\n",
       "      <td>24983</td>\n",
       "      <td>14.648564</td>\n",
       "    </tr>\n",
       "    <tr>\n",
       "      <th>24984</th>\n",
       "      <td>24984</td>\n",
       "      <td>9.198451</td>\n",
       "    </tr>\n",
       "  </tbody>\n",
       "</table>\n",
       "<p>24985 rows × 2 columns</p>\n",
       "</div>"
      ],
      "text/plain": [
       "       test_id      price\n",
       "0            0  26.544918\n",
       "1            1   9.483728\n",
       "2            2  23.451098\n",
       "3            3  23.190654\n",
       "4            4   7.337061\n",
       "5            5  10.530961\n",
       "6            6  10.149368\n",
       "7            7  18.812928\n",
       "8            8   7.382025\n",
       "9            9  27.889915\n",
       "10          10  28.894039\n",
       "11          11  20.264306\n",
       "12          12  21.633493\n",
       "13          13  13.002660\n",
       "14          14  19.935784\n",
       "15          15   3.560384\n",
       "16          16  23.175332\n",
       "17          17  14.326764\n",
       "18          18   8.447754\n",
       "19          19   6.392696\n",
       "20          20  11.655086\n",
       "21          21  30.082438\n",
       "22          22  22.218404\n",
       "23          23  27.658602\n",
       "24          24  10.849112\n",
       "25          25   5.802027\n",
       "26          26  15.908863\n",
       "27          27  46.306977\n",
       "28          28  40.563636\n",
       "29          29  10.756253\n",
       "...        ...        ...\n",
       "24955    24955  24.276153\n",
       "24956    24956  11.908931\n",
       "24957    24957   8.467926\n",
       "24958    24958   6.163243\n",
       "24959    24959  23.370188\n",
       "24960    24960  16.812987\n",
       "24961    24961   9.330337\n",
       "24962    24962  28.169458\n",
       "24963    24963  13.298221\n",
       "24964    24964   9.191106\n",
       "24965    24965  11.835516\n",
       "24966    24966  20.913476\n",
       "24967    24967  16.767180\n",
       "24968    24968   9.674627\n",
       "24969    24969  15.062715\n",
       "24970    24970   6.826514\n",
       "24971    24971  16.588722\n",
       "24972    24972  12.733194\n",
       "24973    24973  19.355975\n",
       "24974    24974  14.863952\n",
       "24975    24975  13.990766\n",
       "24976    24976  25.004945\n",
       "24977    24977  11.491218\n",
       "24978    24978  19.487086\n",
       "24979    24979  16.432804\n",
       "24980    24980  34.892882\n",
       "24981    24981  19.735433\n",
       "24982    24982   8.746651\n",
       "24983    24983  14.648564\n",
       "24984    24984   9.198451\n",
       "\n",
       "[24985 rows x 2 columns]"
      ]
     },
     "execution_count": 51,
     "metadata": {},
     "output_type": "execute_result"
    }
   ],
   "source": [
    "res1"
   ]
  },
  {
   "cell_type": "code",
   "execution_count": 52,
   "metadata": {},
   "outputs": [],
   "source": [
    "res1.to_csv(\"res2.csv\", index=False,sep=\"\\t\")"
   ]
  },
  {
   "cell_type": "code",
   "execution_count": 56,
   "metadata": {},
   "outputs": [
    {
     "data": {
      "text/html": [
       "<div>\n",
       "<style scoped>\n",
       "    .dataframe tbody tr th:only-of-type {\n",
       "        vertical-align: middle;\n",
       "    }\n",
       "\n",
       "    .dataframe tbody tr th {\n",
       "        vertical-align: top;\n",
       "    }\n",
       "\n",
       "    .dataframe thead th {\n",
       "        text-align: right;\n",
       "    }\n",
       "</style>\n",
       "<table border=\"1\" class=\"dataframe\">\n",
       "  <thead>\n",
       "    <tr style=\"text-align: right;\">\n",
       "      <th></th>\n",
       "      <th>test_id</th>\n",
       "      <th>price</th>\n",
       "    </tr>\n",
       "  </thead>\n",
       "  <tbody>\n",
       "    <tr>\n",
       "      <th>0</th>\n",
       "      <td>0</td>\n",
       "      <td>26.544918</td>\n",
       "    </tr>\n",
       "    <tr>\n",
       "      <th>1</th>\n",
       "      <td>1</td>\n",
       "      <td>9.483728</td>\n",
       "    </tr>\n",
       "    <tr>\n",
       "      <th>2</th>\n",
       "      <td>2</td>\n",
       "      <td>23.451098</td>\n",
       "    </tr>\n",
       "    <tr>\n",
       "      <th>3</th>\n",
       "      <td>3</td>\n",
       "      <td>23.190654</td>\n",
       "    </tr>\n",
       "    <tr>\n",
       "      <th>4</th>\n",
       "      <td>4</td>\n",
       "      <td>7.337061</td>\n",
       "    </tr>\n",
       "  </tbody>\n",
       "</table>\n",
       "</div>"
      ],
      "text/plain": [
       "   test_id      price\n",
       "0        0  26.544918\n",
       "1        1   9.483728\n",
       "2        2  23.451098\n",
       "3        3  23.190654\n",
       "4        4   7.337061"
      ]
     },
     "execution_count": 56,
     "metadata": {},
     "output_type": "execute_result"
    }
   ],
   "source": [
    "res2 = pd.read_csv('res2.csv', sep='\\t')\n",
    "res2.head()"
   ]
  },
  {
   "cell_type": "code",
   "execution_count": 57,
   "metadata": {},
   "outputs": [
    {
     "data": {
      "text/html": [
       "<div>\n",
       "<style scoped>\n",
       "    .dataframe tbody tr th:only-of-type {\n",
       "        vertical-align: middle;\n",
       "    }\n",
       "\n",
       "    .dataframe tbody tr th {\n",
       "        vertical-align: top;\n",
       "    }\n",
       "\n",
       "    .dataframe thead th {\n",
       "        text-align: right;\n",
       "    }\n",
       "</style>\n",
       "<table border=\"1\" class=\"dataframe\">\n",
       "  <thead>\n",
       "    <tr style=\"text-align: right;\">\n",
       "      <th></th>\n",
       "      <th>test_id</th>\n",
       "      <th>price</th>\n",
       "    </tr>\n",
       "  </thead>\n",
       "  <tbody>\n",
       "    <tr>\n",
       "      <th>0</th>\n",
       "      <td>0</td>\n",
       "      <td>26.190936</td>\n",
       "    </tr>\n",
       "    <tr>\n",
       "      <th>1</th>\n",
       "      <td>1</td>\n",
       "      <td>9.411546</td>\n",
       "    </tr>\n",
       "    <tr>\n",
       "      <th>2</th>\n",
       "      <td>2</td>\n",
       "      <td>20.807203</td>\n",
       "    </tr>\n",
       "    <tr>\n",
       "      <th>3</th>\n",
       "      <td>3</td>\n",
       "      <td>22.742082</td>\n",
       "    </tr>\n",
       "    <tr>\n",
       "      <th>4</th>\n",
       "      <td>4</td>\n",
       "      <td>7.375566</td>\n",
       "    </tr>\n",
       "  </tbody>\n",
       "</table>\n",
       "</div>"
      ],
      "text/plain": [
       "   test_id      price\n",
       "0        0  26.190936\n",
       "1        1   9.411546\n",
       "2        2  20.807203\n",
       "3        3  22.742082\n",
       "4        4   7.375566"
      ]
     },
     "execution_count": 57,
     "metadata": {},
     "output_type": "execute_result"
    }
   ],
   "source": [
    "res3 = pd.read_csv('res1.csv', sep='\\t')\n",
    "res3.head()"
   ]
  },
  {
   "cell_type": "code",
   "execution_count": null,
   "metadata": {},
   "outputs": [],
   "source": []
  }
 ],
 "metadata": {
  "kernelspec": {
   "display_name": "Python 3",
   "language": "python",
   "name": "python3"
  },
  "language_info": {
   "codemirror_mode": {
    "name": "ipython",
    "version": 3
   },
   "file_extension": ".py",
   "mimetype": "text/x-python",
   "name": "python",
   "nbconvert_exporter": "python",
   "pygments_lexer": "ipython3",
   "version": "3.6.6"
  },
  "toc": {
   "base_numbering": 1,
   "nav_menu": {},
   "number_sections": true,
   "sideBar": true,
   "skip_h1_title": false,
   "title_cell": "Table of Contents",
   "title_sidebar": "Contents",
   "toc_cell": false,
   "toc_position": {},
   "toc_section_display": true,
   "toc_window_display": false
  },
  "varInspector": {
   "cols": {
    "lenName": 16,
    "lenType": 16,
    "lenVar": 40
   },
   "kernels_config": {
    "python": {
     "delete_cmd_postfix": "",
     "delete_cmd_prefix": "del ",
     "library": "var_list.py",
     "varRefreshCmd": "print(var_dic_list())"
    },
    "r": {
     "delete_cmd_postfix": ") ",
     "delete_cmd_prefix": "rm(",
     "library": "var_list.r",
     "varRefreshCmd": "cat(var_dic_list()) "
    }
   },
   "position": {
    "height": "356.4px",
    "left": "1166px",
    "right": "20px",
    "top": "120px",
    "width": "350px"
   },
   "types_to_exclude": [
    "module",
    "function",
    "builtin_function_or_method",
    "instance",
    "_Feature"
   ],
   "window_display": false
  }
 },
 "nbformat": 4,
 "nbformat_minor": 2
}
